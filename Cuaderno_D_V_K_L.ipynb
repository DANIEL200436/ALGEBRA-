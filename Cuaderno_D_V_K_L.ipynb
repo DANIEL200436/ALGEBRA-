{
  "nbformat": 4,
  "nbformat_minor": 0,
  "metadata": {
    "colab": {
      "provenance": [],
      "toc_visible": true,
      "include_colab_link": true
    },
    "kernelspec": {
      "name": "python3",
      "display_name": "Python 3"
    }
  },
  "cells": [
    {
      "cell_type": "markdown",
      "metadata": {
        "id": "view-in-github",
        "colab_type": "text"
      },
      "source": [
        "<a href=\"https://colab.research.google.com/github/DANIEL200436/ALGEBRA-/blob/main/Cuaderno_D_V_K_L.ipynb\" target=\"_parent\"><img src=\"https://colab.research.google.com/assets/colab-badge.svg\" alt=\"Open In Colab\"/></a>"
      ]
    },
    {
      "cell_type": "markdown",
      "source": [
        "##**MATRICES #1**"
      ],
      "metadata": {
        "id": "xnLI5ZRALNq-"
      }
    },
    {
      "cell_type": "markdown",
      "metadata": {
        "id": "Trt0wh04xvl8"
      },
      "source": [
        "##**DEFINICION MATRICES**##\n",
        "\n",
        "\n",
        "Una matriz es una estructura matemática compuesta por una disposición rectangular de elementos o números, organizados en filas y columnas. Cada elemento de una matriz ocupa una posición única definida por su fila y su columna. Las matrices se utilizan ampliamente en diversas áreas de las matemáticas, la física, la informática y otras disciplinas científicas.\n",
        "\n",
        "Las matrices son estructuras matemáticas compuestas por elementos numéricos o algebraicos preparados en filas y columnas. Se representan mediante corchetes o paréntesis. Se utilizan en diversos campos como álgebra lineal, cálculo, estadística, física, ingeniería y programación.\n",
        "\n",
        "Las matrices permiten realizar operaciones como la suma, resta, multiplicación e inversión. Pueden tener diferentes dimensiones, determinadas por el número de filas y columnas.\n",
        "\n",
        "Son fundamentales para resolver sistemas de ecuaciones lineales, transformaciones lineales, problemas de optimización y análisis de datos. Además, se utilizará en la representación de imágenes, el diseño de algoritmos y la programación de gráficos computacionales.\n",
        "\n",
        "Cada uno de los números  que conforman la matriz se denomina elemento y se denotan por $(a_{ij})$ donde $i$ representa el número de fila y $j$ el número de la columna en que se encuentra el elemento de la matriz $A$. El número de filas y columnas de una matriz representa la  dimensión de una matriz, por ejemplo una matriz A de $n$ filas y $m$ columnas podemos denotarla como $A_{n\\times m}$ ,  es decir: \n",
        "\n",
        "$$ \\begin{equation} A_{n\\times m} =\n",
        "\\begin{pmatrix}\n",
        "a_{11} & a_{21} & \\cdots & a_{1m}\\\\\n",
        "a_{21} & a_{22} & \\cdots & a_{2m}\\\\\n",
        "\\vdots & \\vdots & \\ddots & \\vdots\\\\\n",
        "a_{n1} & a_{n2} & \\cdots & a_{nm}\n",
        "\\end{pmatrix}\n",
        "\\end{equation} $$\n"
      ]
    },
    {
      "cell_type": "markdown",
      "metadata": {
        "id": "aCUi_DAcV45C"
      },
      "source": [
        "##  **TIPOS DE MATRICES**\n",
        "\n",
        "Las matrices son una herramienta matemática versátil y poderosa que se utiliza en una amplia gama de disciplinas. Una de las características distintivas de las matrices es que pueden clasificarse en diferentes tipos, según sus propiedades y estructuras particulares. Estos tipos de matrices ofrecen diferentes perspectivas y enfoques para resolver problemas específicos y aplicar métodos matemáticos.\n",
        "\n",
        "Existen varios tipos de matrices comunes, cada uno con características y propiedades únicas. Algunos de los tipos de matrices más importantes incluyen:\n",
        "\n"
      ]
    },
    {
      "cell_type": "markdown",
      "source": [
        "**Matrices dependiendo el tipo de elementoS**\n",
        "\n",
        "* **Matriz nula o matriz cero**: es aquella cuyos elementos son todos cero.\n",
        "\n",
        "$$ \\begin{equation} \n",
        "\\begin{pmatrix}\n",
        " 0 & 0\\\\\n",
        " 0 & 0\\\\\n",
        "\\end{pmatrix}\n",
        "\\end{equation}$$\n",
        "\n",
        "* **Matriz identidad**: es aquella que cumple la propiedad de ser el elemento neutro del producto de matrices, es de $n \\times n$ y tiene como elementos el 1 en la diagonal (los elementos que forman parte de la diagonal son  $a_{11}$, $a_{22}$, $a_{33}$,...,$a_{nn}$) y cero en aquellos elementos que no pertenecen a la diagonal.\n",
        "\n",
        "$$ \\begin{equation} \n",
        "\\begin{pmatrix}\n",
        " 1 & 0 & 0\\\\\n",
        " 0 & 1 & 0\\\\\n",
        " 0 & 0 & 1\\\\\n",
        "\\end{pmatrix}\n",
        "\\end{equation}$$\n",
        "\n",
        "* **Matriz diagonal**:  Una matriz se denomina diagonal si todos los elementos que no se encuentran sobre la diagonal son cero.\n",
        "\n",
        "$$ \\begin{equation} \n",
        "\\begin{pmatrix}\n",
        " -4 & 0 & 0\\\\\n",
        " 0 & 1 & 0\\\\\n",
        " 0 & 0 & 6\\\\\n",
        "\\end{pmatrix}\n",
        "\\end{equation}$$\n",
        "\n",
        "* **Matriz triangular superior**:  todas sus componentes abajo de la diagonal son cero y los que estan en la diagonal y por encima de esta son casi o todos distintos de cero.\n",
        "\n",
        "$$ \\begin{equation} \n",
        "\\begin{pmatrix}\n",
        " -4 & 2 & 1\\\\\n",
        " 0 & 1 & 2\\\\\n",
        " 0 & 0 & 6\\\\\n",
        "\\end{pmatrix}\n",
        "\\end{equation}$$\n",
        "\n",
        "* **Matriz real**: todos sus elementos pertenecen a los números reales.\n",
        "\n",
        "$$ \\begin{equation} A_{n\\times m} =\n",
        "\\begin{pmatrix}\n",
        "a_{11} & a_{21} & \\cdots & a_{1m}\\\\\n",
        "a_{21} & a_{22} & \\cdots & a_{2m}\\\\\n",
        "\\vdots & \\vdots & \\ddots & \\vdots\\\\\n",
        "a_{n1} & a_{n2} & \\cdots & a_{nm}\n",
        "\\end{pmatrix}\n",
        "\\end{equation} $$\n",
        "\n",
        "\n",
        "* **Matriz compleja**: todos sus elementos pertenecen a los números complejos.\n",
        "\n",
        "$$ \\begin{equation} \n",
        "\\begin{pmatrix}\n",
        " 2+3,&1-2i\\\\\n",
        " 4i,&-1+5i\\\\\n",
        "\\end{pmatrix}\n",
        "\\end{equation}$$\n",
        "\n",
        "* **Matriz cuadrada**: es aquella que cumple la condición de que $n=m$, en este caso se denota $A_{n}$\n",
        "\n",
        "\n",
        "$$ \\begin{equation}\n",
        "\\begin{pmatrix}\n",
        "1 & 0 & 0 & \\cdots & 0\\\\\n",
        "0 & 1 & 0 & \\cdots & 0\\\\\n",
        "0 & 0 & 1 & \\cdots & 0\\\\\n",
        "\\vdots&\\vdots&\\vdots&\\ddots&\\vdots\\\\\n",
        "0 & 0 & 0 & \\cdots & 1\n",
        "\\end{pmatrix}\n",
        "\\end{equation} $$\n",
        "\n",
        "* **Matriz rectangular**: aquella que cumple la condición de que $n \\neq m$ que fue el caso inicial.\n",
        "\n",
        "$$ \\begin{equation} \n",
        "\\begin{pmatrix}\n",
        " -1 & 3 & 6\\\\\n",
        " 0 & 4 & 2\\\\\n",
        "\\end{pmatrix}\n",
        "\\end{equation}$$\n",
        "\n",
        "La igualdad de matrices se presenta cuando para dos matrices $A,B$ se cumple siempre que $a_{ij}$=$b_{ij}$ para todo $(i,j)$."
      ],
      "metadata": {
        "id": "OkGRIqF4LaD4"
      }
    },
    {
      "cell_type": "markdown",
      "metadata": {
        "id": "4WzuRF44V45C"
      },
      "source": [
        "#**OPERACIONES Y PROPIEDADES**\n"
      ]
    },
    {
      "cell_type": "markdown",
      "metadata": {
        "id": "iA_PZxE6V45D"
      },
      "source": [
        "**Suma  y Resta de matrices** \n",
        "\n",
        "Para llevar a cabo estas operaciones es importante verificar que las matrices con las que se trabajará tengan el mismo orden, también es importante saber que se obtendrá como resultado una matriz con exactamente ese orden al realizar las operaciones.\n",
        "\n",
        "La suma o resta se lleva a cabo elemento por elemento, por ejemplo, sean A y B dos matrices que deseamos sumar, entonces se obtendrá una nueva matriz C cuyos elementos serán: $c_{ij}$=$a_{ij}+b_{ij}$, para hacer la resta solo le aplica la operación correspondiente.\n",
        "\n",
        "De manera gráfica, podemos verlo de la siguiente manera para la suma:\n",
        "\n",
        "$$ \\begin{equation} A_{n\\times m} = \n",
        "\\begin{pmatrix}\n",
        "a_{11} & a_{12} & \\cdots & a_{1m}\\\\\n",
        "a_{21} & a_{22} & \\cdots & a_{2m}\\\\\n",
        "\\vdots & \\vdots & \\ddots & \\vdots\\\\\n",
        "a_{n1} & a_{n2} & \\cdots & a_{nm}\n",
        "\\end{pmatrix}\n",
        "\\end{equation} $$\n",
        "\n",
        "\n",
        "$$ \\begin{equation} B_{n\\times m} = \n",
        "\\begin{pmatrix}\n",
        "b_{11} & b_{12} & \\cdots & b_{1m}\\\\\n",
        "b_{21} & b_{22} & \\cdots & b_{2m}\\\\\n",
        "\\vdots & \\vdots & \\ddots & \\vdots\\\\\n",
        "b_{n1} & b_{n2} & \\cdots & b_{nm}\n",
        "\\end{pmatrix}\n",
        "\\end{equation}$$\n",
        "\n",
        "\n",
        "$$ \\begin{equation} C=A+B =\n",
        "\\begin{pmatrix}\n",
        "a_{11}+b_{11} & a_{12}+b_{12} & \\cdots & a_{1m}+b_{1m}\\\\\n",
        "a_{21}+b_{21} & a_{22}+b_{22} & \\cdots & a_{2m}+ b_{2m}\\\\\n",
        "\\vdots & \\vdots & \\ddots & \\vdots\\\\\n",
        "a_{n1}+b_{n1} & a_{n2}+b_{n2} & \\cdots & a_{nm}+b_{nm}\n",
        "\\end{pmatrix}\n",
        "\\end{equation}$$\n"
      ]
    },
    {
      "cell_type": "markdown",
      "metadata": {
        "id": "IUfKmmmLV45L"
      },
      "source": [
        "**Escalar por una matriz**\n",
        "\n",
        "En este caso lo que se hace es multiplicar un número escalar por la matriz, es decir $\\tau$*$A_{n\\times m}$ y el resultado será una matriz del mismo orden pero con cada uno de sus elementos múltiplicado por el escalar,es decir: \n",
        "\n",
        "\n",
        "  $$\\begin{equation} \\tau*A_{n\\times m}=\n",
        "\\begin{pmatrix}\n",
        "\\tau*a_{11} & \\tau*a_{12} & \\cdots & \\tau*a_{1m}\\\\\n",
        "\\tau*a_{21} & \\tau*a_{12} & \\cdots & \\tau*a_{2m}\\\\\n",
        "\\vdots & \\vdots & \\ddots & \\vdots\\\\\n",
        "\\tau*a_{n1} & \\tau*a_{n2} & \\cdots & \\tau*a_{nm}\n",
        "\\end{pmatrix}\n",
        "\\end{equation}$$\n",
        "\n",
        "Cabe mencionar que esta operación es distributiva respecto a la suma de escalares y a la suma de matrices, además es conmutativa y asociativa respecto al producto punto de escalares.\n",
        "A continuación se muestra un ejemplo de esta operación.\n"
      ]
    },
    {
      "cell_type": "code",
      "metadata": {
        "id": "kNuLzBz3V45L",
        "colab": {
          "base_uri": "https://localhost:8080/"
        },
        "outputId": "55f7830e-2d11-4ff3-e522-c2e6ffbda4c9"
      },
      "source": [
        "#Pedimos que nos de el número de filas y columnas que tienen las matrices\n",
        "filas = int(input (\"Indique el número de filas: \"))\n",
        "columnas = int(input (\"Indique el número de columnas: \"))\n",
        "\n",
        "#Creamos las matrices en las que se guardarán los valores que el usuario proporcione y los de la suma\n",
        "matriz1 = input.zeros((filas,columnas))\n",
        "\n",
        "#Le pedimos que ingrese la primer matriz elemento por elemento y vamos llenando\n",
        "print ('Ingrese la  matriz')\n",
        "for i in range(filas):\n",
        "        for j in range(columnas):\n",
        "            matriz1[i][j] = float(input('Elemento (%d,%d): ' % (i, j)))\n",
        "\n",
        "print( \"su matriz es:\")\n",
        "print(matriz1)\n",
        "\n",
        "#Le pedimos que ingrese el escalar por el que se multiplicara           \n",
        "l= int(input('Dame el número por el que multiplicarás la matriz'))\n",
        "#Realizamos la multiplicación de la matricez que nos proporciono por el escalar y la imprimimos \n",
        "matriz2= matriz1*l\n",
        "\n",
        "#Pedimos que nos imprima el resultado de la operación \n",
        "print ('La matriz multiplicada por el escalar es:')\n",
        "print (matriz2)"
      ],
      "execution_count": null,
      "outputs": [
        {
          "output_type": "stream",
          "text": [
            "Indique el número de filas: 1\n",
            "Indique el número de columnas: 2\n",
            "Ingrese la  matriz\n",
            "Elemento (0,0): 1\n",
            "Elemento (0,1): 2\n",
            "su matriz es:\n",
            "[[1. 2.]]\n",
            "Dame el número por el que multiplicarás la matriz2\n",
            "La matriz multiplicada por el escalar es:\n",
            "[[2. 4.]]\n"
          ],
          "name": "stdout"
        }
      ]
    },
    {
      "cell_type": "markdown",
      "metadata": {
        "id": "YrTRZefQV45Q"
      },
      "source": [
        "**Producto de un vector por una matriz**\n",
        "\n",
        "Si tenemos una matriz $A_{n\\times m}$ y queremos obtener el producto de esta matriz con un vector, lo primero que se debe verificar es que el número de columnas de la matriz coincida con el número de filas del vector, el resultado de esto nos dara una nueva matriz $C_{n\\times 1}$.\n",
        "\n",
        "Los elementos que conformarán esta nueva matriz serán el resultado de sumar los productos de los elementos de la fila i por el vector, es decir:\n",
        "\n",
        "Sea la matriz:\n",
        "\n",
        " $$ \\begin{equation}  A_{n\\times m} =\n",
        "\\begin{pmatrix}\n",
        "a_{11} & a_{12} & \\cdots & a_{1m}\\\\\n",
        "a_{21} & a_{12} & \\cdots & a_{2m}\\\\\n",
        "\\vdots & \\vdots & \\ddots & \\vdots\\\\\n",
        "a_{n1} & a_{n2} & \\cdots & a_{nm}\n",
        "\\end{pmatrix}\n",
        "\\end{equation}$$\n",
        "\n",
        "Definiremos el vector:\n",
        "\n",
        "  $$\\begin{equation}  V_{m\\times 1} =\n",
        "\\begin{pmatrix}\n",
        "v_{11} \\\\\n",
        "v_{21} \\\\\n",
        "\\vdots \\\\\n",
        "v_{m1} \n",
        "\\end{pmatrix}\n",
        "\\end{equation}$$\n",
        "\n",
        "\n",
        "Entonces el producto de estos será la nueva matriz $C_{nx1}$ cuyas entradas serán:\n",
        "\n",
        " \n",
        "$$\n",
        "\\begin{equation}\n",
        "  C_{i1} = \\sum_{k} (a_{ik}*v_{k,1})\n",
        "\\end{equation}$$"
      ]
    },
    {
      "cell_type": "code",
      "metadata": {
        "id": "9vgfGg4vV45Q",
        "colab": {
          "base_uri": "https://localhost:8080/"
        },
        "outputId": "46ee56b6-f4a8-4ee4-c0e0-000f75c1b42c"
      },
      "source": [
        "#Primero pedimos que  nos den la matriz\n",
        "filas1 = int(input (\"Indique el número de filas de la matriz: \"))\n",
        "columnas1 = int(input (\"Indique el número de columnas de la matriz: \"))\n",
        "columnas2 = 1\n",
        "\n",
        "#Creamos la matriz en la que se guardarán los valores que el usuario proporcione\n",
        "A = input.zeros((filas1,columnas1))    \n",
        "B = input.zeros((columnas1,columnas2))   \n",
        " #Llenamos la matriz con los datos del usuario\n",
        "print (\"Ingrese la primer matriz\")\n",
        "\n",
        "for i in range(filas1):\n",
        "        for j in range(columnas1):\n",
        "            A[i][j] = float(input('Elemento (%d,%d): ' % (i, j)))\n",
        "print( \"su matriz es:\")\n",
        "print(A)\n",
        "#llenamos el vector\n",
        "print (\"Ingrese el vector\")\n",
        "for i in range(columnas1):\n",
        "        for j in range(columnas2):\n",
        "            B[i][j] = float(input('Elemento (%d,%d): ' % (i, j)))\n",
        "print( \"su vector es:\")\n",
        "print(B)\n",
        "\n",
        "\n",
        "C = A.dot(B)\n",
        "print(\"El producto de la matriz con el vector es:\")\n",
        "    \n",
        "print (C)\n"
      ],
      "execution_count": null,
      "outputs": [
        {
          "output_type": "stream",
          "text": [
            "Indique el número de filas de la matriz: 1\n",
            "Indique el número de columnas de la matriz: 2\n",
            "Ingrese la primer matriz\n",
            "Elemento (0,0): 3\n",
            "Elemento (0,1): 2\n",
            "su matriz es:\n",
            "[[3. 2.]]\n",
            "Ingrese el vector\n",
            "Elemento (0,0): 1\n",
            "Elemento (1,0): 2\n",
            "su vector es:\n",
            "[[1.]\n",
            " [2.]]\n",
            "El producto de la matriz con el vector es:\n",
            "[[7.]]\n"
          ],
          "name": "stdout"
        }
      ]
    },
    {
      "cell_type": "markdown",
      "metadata": {
        "id": "Eqmsfu1-V45V"
      },
      "source": [
        "**Producto de Matrices**\n",
        "\n",
        "Si tenemos una matriz $A_{n\\times m}$ y queremos obtener el producto de esta matriz con una $B_{m\\times l}$, lo primero que se debe verificar es que el número de columnas de la matriz $A$ coincida con el número de filas de la matriz $B$, el resultado de esto nos dara una nueva matriz $C_{n\\times l}$.\n",
        "\n",
        "Los elementos que conformarán esta nueva matriz serán el resultado de sumar los productos de los elementos de la fila $i$ por la columna $j$, es decir:\n",
        "\n",
        "$$\\begin{equation}\n",
        "  C_{ij} = \\sum_{k} (a_{ik}*b_{k,j})\n",
        "\\end{equation}$$\n",
        "\n",
        "por ejemplo si tenemos las siguientes matrices:\n",
        "\n",
        "\n",
        "$$ \\begin{equation} A_{2\\times 3}=\n",
        "\\begin{pmatrix}\n",
        "2 & 3 & 1 \\\\\n",
        "0 & -1 & -2 \n",
        "\\end{pmatrix}\n",
        "\\end{equation}$$\n",
        "\n",
        "\n",
        "$$ \\begin{equation} B_{3 \\times 2}=\n",
        "\\begin{pmatrix}\n",
        " 1 & 0 \\\\\n",
        "-1 & 2  \\\\\n",
        "-2 & 3\n",
        "\\end{pmatrix}\n",
        "\\end{equation}$$\n",
        "\n",
        "\n",
        "$$\\begin{equation} C_{2 \\times 2}=\n",
        "\\begin{pmatrix}\n",
        " (2*1)+(-1*3)+(-2*1)   & (0*2)+(2*3) +(3*1) \\\\\n",
        " (1*0)+(-1*-1)+(-2*-2) & (0*0)+(2*-1)+(3*-2)\n",
        "\\end{pmatrix}\n",
        "\\end{equation}$$\n",
        "\n",
        "\n",
        "\n",
        "$$\\begin{equation} =\n",
        "\\begin{pmatrix}\n",
        " -3 & 9 \\\\\n",
        "  5 & -8\n",
        " \\end{pmatrix}\n",
        " \\end{equation}$$\n",
        " \n",
        " \n",
        " Esta operación cumple con la asociatividad, es distributiva respecto a la suma de matrices, no siempre es conmutativo, y  si $AB=AC$  no necesariamente se cumple que $B=C$."
      ]
    },
    {
      "cell_type": "code",
      "metadata": {
        "id": "OfTHqrvEV45V",
        "colab": {
          "base_uri": "https://localhost:8080/"
        },
        "outputId": "1de5a472-1932-41d1-9a5a-c9720cea7628"
      },
      "source": [
        "#Primero pedimos que se nos den las matrices \n",
        "print(\"recuerde que el numero de columnas de la segunda matriz debe ser igual al número de columnas de la primer matriz\")\n",
        "filas1 = int(input (\"Indique el número de filas de la primer matriz: \"))\n",
        "columnas1 = int(input (\"Indique el número de columnas de la primer matriz: \"))\n",
        "columnas2 = int(input (\"Indique el número de columnas de la segunda matriz: \"))\n",
        "\n",
        "#creamos las matrices en las que se guardarán los valores que el usuario proporcione y los de la suma\n",
        "A = input.zeros((filas1,columnas1))    \n",
        "B = input.zeros((columnas1,columnas2))   \n",
        " #llenamos la matriz 1 con los datos del usuario\n",
        "print (\"Ingrese la primer matriz\")\n",
        "\n",
        "for i in range(filas1):\n",
        "        for j in range(columnas1):\n",
        "            A[i][j] = float(input('Elemento (%d,%d): ' % (i, j)))\n",
        "print( \"su matriz 1 es:\")\n",
        "print(A)\n",
        "#llenamos la matriz 2\n",
        "print (\"Ingrese la segunda matriz\")\n",
        "for i in range(columnas1):\n",
        "        for j in range(columnas2):\n",
        "            B[i][j] = float(input('Elemento (%d,%d): ' % (i, j)))\n",
        "print( \"su matriz 2 es:\")\n",
        "print(B)\n",
        "\n",
        "#Mediante la función .dot() realizamos un producto matricial, entre la matriz A y B\n",
        "C = A.dot(B)\n",
        "print(\"El producto de las matrices es:\")\n",
        "    \n",
        "print (C)\n"
      ],
      "execution_count": null,
      "outputs": [
        {
          "output_type": "stream",
          "text": [
            "recuerde que el numero de columnas de la segunda matriz debe ser igual al número de columnas de la primer matriz\n",
            "Indique el número de filas de la primer matriz: 2\n",
            "Indique el número de columnas de la primer matriz: 2\n",
            "Indique el número de columnas de la segunda matriz: 2\n",
            "Ingrese la primer matriz\n",
            "Elemento (0,0): 2\n",
            "Elemento (0,1): 2\n",
            "Elemento (1,0): 2\n",
            "Elemento (1,1): 2\n",
            "su matriz 1 es:\n",
            "[[2. 2.]\n",
            " [2. 2.]]\n",
            "Ingrese la segunda matriz\n",
            "Elemento (0,0): 2\n",
            "Elemento (0,1): 2\n",
            "Elemento (1,0): 2\n",
            "Elemento (1,1): 2\n",
            "su matriz 2 es:\n",
            "[[2. 2.]\n",
            " [2. 2.]]\n",
            "El producto de las matrices es:\n",
            "[[8. 8.]\n",
            " [8. 8.]]\n"
          ],
          "name": "stdout"
        }
      ]
    },
    {
      "cell_type": "markdown",
      "metadata": {
        "id": "aHUwZxLKV45a"
      },
      "source": [
        "#**MATRIZ INVERSA**\n",
        "\n",
        "Una matriz cuadrada $A_{n\\times n}$ tiene inversa denotada como $A^{-1}$ si se cuemple que:\n",
        "\n",
        "$$AA^{-1}=A^{-1}A=I$$\n",
        "\n",
        "De donde I es la matriz identidad de tamaño n la cuál tiene unos en su diagonal y ceros en todas las demas entradas.\n",
        "\n",
        "Las matrices que tienen inversa son llamadas matrices invertibles o regulares.\n",
        "\n",
        "La matriz inversa debe cumplir:\n",
        " * Es única \n",
        " * $(A^{-1})^{-1}$ = $A$\n",
        " * $(A B)^{-1}$ = $B^{-1}$$A^{-1}$\n",
        " * $(\\alpha*A)^{-1}$=$\\frac{1}{\\alpha}$*$A^{-1}$   con $\\alpha$ distinto de 0"
      ]
    },
    {
      "cell_type": "markdown",
      "metadata": {
        "id": "qErtK8YXV45f"
      },
      "source": [
        "**Ejemplo 1**\n",
        "\n",
        "Un fabricante de cierto producto realiza tres modelos, $A$, $B$ y $C$. Algunas\n",
        "partes  de cada uno se elaboran en la fábrica $F_1$, ubicada en de Taiwán, y después se terminan en la fábrica $F_2$ de Estados Unidos. El costo total de cada producto consta\n",
        "de los costos de manufactura y de embarque. En consecuencia, los costos (en dólares) de\n",
        "cada fábrica pueden describirse mediante las matrices $F_1$ y $F_2$ de 3 × 2:\n",
        "\n",
        "$$\\begin{equation}\n",
        "F_1=\n",
        "\\begin{pmatrix}\n",
        " manufactura &  embarque  \\\\  \n",
        "\\hline \n",
        "32& 40 & mod.A \\\\\n",
        "50& 80 & mod.B \\\\\n",
        "70& 20 & mod.C \\\\\n",
        "\\end{pmatrix}\n",
        "\\end{equation}$$\n",
        "\n",
        "\n",
        "Para el caso de Estados Unidos se tiene:\n",
        "\n",
        "\n",
        "$$\\begin{equation}\n",
        "F_2=\n",
        "\\begin{pmatrix}\n",
        " manufactura &  embarque  \\\\  \n",
        "\\hline \n",
        "40& 60 & mod.A \\\\\n",
        "50& 50 & mod.B \\\\\n",
        "130& 20 & mod.C \\\\\n",
        "\\end{pmatrix}\n",
        "\\end{equation}$$\n",
        "\n",
        "\n",
        "  El costo total de un producto dependiendo el modelo estaría dado por $F_1$ + $F_2$, que es: \n",
        "\n",
        " $$ \\begin{equation}\n",
        "F_1+F_2=\n",
        "\\begin{pmatrix}\n",
        " manufactura &  embarque  \\\\  \n",
        "\\hline \n",
        "80& 120 & mod.A \\\\\n",
        "100& 130 & mod.B \\\\\n",
        "200& 40 & mod.C \\\\\n",
        "\\end{pmatrix}\n",
        "\\end{equation}$$\n",
        "\n",
        "De lo anterior se observa que para el modelo $B$, los costos totales son $100$  por manufactura y $130$ por embarque.\n",
        "\n",
        "\n",
        "\n",
        "\n"
      ]
    },
    {
      "cell_type": "code",
      "metadata": {
        "colab": {
          "base_uri": "https://localhost:8080/",
          "height": 84
        },
        "outputId": "e1851fa8-03ed-4c52-a82d-d55bf6d150ec",
        "id": "GGDeDnj85R5N"
      },
      "source": [
        "#La matriz\n",
        "print(\"Matriz A*B:\")\n",
        "\n",
        "#Declaramos el arreglo A y B\n",
        "A= np.array([[2,3,4,3],[3,2,2,5],[4,1,6,4]])\n",
        "B= np.array([[20,12,8],[28,15,15],[30,12,10], [40,16,20]])\n",
        "\n",
        "#Mediante la función .dot() realizamos un producto matricial entre la matriz A y B\n",
        "C=A.dot(B)\n",
        "print(C)"
      ],
      "execution_count": null,
      "outputs": [
        {
          "output_type": "stream",
          "text": [
            "Matriz A*B:\n",
            "[[364 165 161]\n",
            " [376 170 174]\n",
            " [448 199 187]]\n"
          ],
          "name": "stdout"
        }
      ]
    },
    {
      "cell_type": "markdown",
      "metadata": {
        "id": "4zhAokbzniJL"
      },
      "source": [
        "De donde se obtiene por ejemplo que se requieren 174 mg de pesticida 2 absorbidos por el herbívoro 3, que es la entrada (2,3) de la matriz AB \n",
        "Ahora bien, si tuviéramos p animales carnívoros (como el hombre) que se comen a los herbívoros, podríamos repetir el análisis para determinar cuánto pesticida absorbe cada uno de los p animales carnivoros. "
      ]
    },
    {
      "cell_type": "markdown",
      "source": [
        "#METODO DE GAUSS PARA CALCULAR UNA INVERSA\n",
        "\n",
        "Llamaremos operaciones elementales fila (sobre una matriz) a las siguientes operaciones:\n",
        "\n",
        "Recordad que, si una matriz cuadrada es regular, entonces podemos realizar un número finito de operaciones elementales fila para transformar la matriz en la matriz identidad.\n",
        "\n",
        "En el método de Gauss se realizan las mismas operaciones sobre la matriz identidad, transformándose así en la matriz inversa de A.\n",
        "\n",
        "**Los pasos del método de Gauss son:**\n",
        "\n",
        "1. Escribimos una matriz doble que contiene a la matriz A\n",
        "en un lado y a la matriz identidad en el otro. Por ejemplo:\n",
        "\n",
        "$$ \\begin{equation} \n",
        "\\begin{pmatrix}\n",
        " 1 & 1  &|&  1 & 0\\\\\n",
        " 0 & 1  &|&  0 & 1\\\\\n",
        "\\end{pmatrix}\n",
        "\\end{equation}$$\n",
        "\n",
        "2. Realizamos operaciones elementales fila para transformar la matriz A en la identidad. En el ejemplo, es suficiente restar la fila 2 a la fila 1:\n",
        "\n",
        "$$ \\begin{equation} \n",
        "\\begin{pmatrix}\n",
        " 1 & 0  &|&  1 & -1\\\\\n",
        " 0 & 1  &|&  0 & 1\\\\\n",
        " &A& & B=A^{-1}\n",
        "\\end{pmatrix}\n",
        "\\end{equation}$$\n",
        "\n",
        "3. Al terminar, por lo que dijimos anteriormente, la matriz B\n",
        "del lado derecho es, precisamente, la inversa de A: B= $A^{1}$"
      ],
      "metadata": {
        "id": "zpABPg84pmST"
      }
    },
    {
      "cell_type": "code",
      "source": [
        "import numpy as np\n",
        "\n",
        "def gauss_inverse(matrix):\n",
        "    n = len(matrix)\n",
        "    augmented_matrix = np.concatenate((matrix, np.identity(n)), axis=1)\n",
        "    \n",
        "    for i in range(n):\n",
        "        # Pivoteo parcial\n",
        "        max_row = i + np.argmax(np.abs(augmented_matrix[i:, i]))\n",
        "        augmented_matrix[[i, max_row]] = augmented_matrix[[max_row, i]]\n",
        "        \n",
        "        # Escalonamiento\n",
        "        pivot = augmented_matrix[i, i]\n",
        "        augmented_matrix[i] /= pivot\n",
        "        \n",
        "        for j in range(n):\n",
        "            if j != i:\n",
        "                factor = augmented_matrix[j, i]\n",
        "                augmented_matrix[j] -= factor * augmented_matrix[i]\n",
        "    \n",
        "    inverse = augmented_matrix[:, n:]\n",
        "    return inverse\n",
        "\n",
        "# Ejemplo de uso\n",
        "matrix = np.array([[2, 1], [4, 3]])\n",
        "inverse_matrix = gauss_inverse(matrix)\n",
        "print(\"Matriz original:\\n\", matrix)\n",
        "print(\"Matriz inversa:\\n\", inverse_matrix)\n"
      ],
      "metadata": {
        "colab": {
          "base_uri": "https://localhost:8080/"
        },
        "id": "ZNn5a3D8XaDV",
        "outputId": "28e4ff3a-7798-457f-a356-30769d605527"
      },
      "execution_count": null,
      "outputs": [
        {
          "output_type": "stream",
          "name": "stdout",
          "text": [
            "Matriz original:\n",
            " [[2 1]\n",
            " [4 3]]\n",
            "Matriz inversa:\n",
            " [[ 1.5 -0.5]\n",
            " [-2.   1. ]]\n"
          ]
        }
      ]
    },
    {
      "cell_type": "markdown",
      "source": [
        "# MATRICES ELEMENTALES\n",
        "\n",
        "Las matrices elementales son matrices cuadradas que se utilizan en álgebra lineal para realizar operaciones elementales en sistemas de ecuaciones lineales. Estas matrices se componen principalmente de ceros, excepto en una fila o columna específica, donde contienen un único elemento distinto de cero. Su función principal es simplificar el proceso de transformación de sistemas de ecuaciones, ya sea intercambiando filas, escalando filas por un factor o sumando múltiplos de una fila a otra.\n"
      ],
      "metadata": {
        "id": "uRUxZtmKIws2"
      }
    },
    {
      "cell_type": "code",
      "source": [
        "# EJEMPLO EN CODIGO DE COLAB\n",
        "\n",
        "import numpy as np\n",
        "\n",
        "def intercambiar_filas(matriz, fila1, fila2):\n",
        "    matriz[fila1], matriz[fila2] = matriz[fila2], matriz[fila1]\n",
        "\n",
        "# Crear una matriz de ejemplo\n",
        "matriz = np.array([[1, 2, 3], [4, 5, 6], [7, 8, 9]])\n",
        "\n",
        "# Intercambiar la primera y la tercera fila\n",
        "intercambiar_filas(matriz, 0, 2)\n",
        "\n",
        "print(matriz)\n"
      ],
      "metadata": {
        "colab": {
          "base_uri": "https://localhost:8080/"
        },
        "id": "kdPjqwejoLCl",
        "outputId": "ba1e65c9-6361-4553-a332-ff2cf011d858"
      },
      "execution_count": null,
      "outputs": [
        {
          "output_type": "stream",
          "name": "stdout",
          "text": [
            "[[7 8 9]\n",
            " [4 5 6]\n",
            " [7 8 9]]\n"
          ]
        }
      ]
    },
    {
      "cell_type": "markdown",
      "source": [
        "# RANGO DE UNA MATRIZ\n",
        "\n",
        "El rango de una matriz es una medida de la \"dimensionalidad\" o el número de columnas linealmente independientes en una matriz. En otras palabras, representa el número máximo de vectores linealmente independientes que se pueden obtener de las columnas de una matriz. El rango también se puede interpretar como el número máximo de filas o columnas linealmente independientes que se pueden seleccionar de una matriz.\n",
        "\n",
        "Matemáticamente, el rango de una matriz se denota como \"rango(A)\" o \"r(A)\", donde \"A\" es la matriz en cuestión. Para calcular el rango de una matriz, se pueden utilizar diversos métodos, como la eliminación de Gauss-Jordan, la descomposición en valores singulares (SVD) o la descomposición LU.\n",
        "\n",
        "El rango de una matriz tiene varias propiedades importantes:\n",
        "\n",
        "1. El rango de una matriz nunca es mayor que el número de filas o columnas de la matriz. Es decir, rango(A) ≤ min(filas, columnas).\n",
        "2. Si el rango de una matriz es igual al número de filas (o columnas), entonces la matriz se considera de rango completo o de rango máximo.\n",
        "3. El rango de una matriz puede ser utilizado para determinar si es invertible. Si una matriz cuadrada tiene rango completo, es decir, su rango es igual a su número de filas (o columnas), entonces es invertible.\n",
        "4. El rango de una matriz puede ser utilizado para determinar si un sistema de ecuaciones lineales tiene solución única o múltiples soluciones. Si el rango de la matriz de coeficientes es igual al rango de la matriz aumentada (que incluye los términos constantes), entonces el sistema tiene una solución única. Si el rango de la matriz de coeficientes es menor que el rango de la matriz aumentada, entonces el sistema tiene múltiples soluciones o ninguna solución.\n",
        "\n",
        "El concepto de rango de una matriz tiene muchas aplicaciones en matemáticas, física, ciencias de la computación y otros campos, donde se utilizan técnicas de álgebra lineal y sistemas de ecuaciones lineales."
      ],
      "metadata": {
        "id": "A596gLNLxYAc"
      }
    },
    {
      "cell_type": "markdown",
      "source": [
        "EJEMPLO:\n",
        "\n",
        "$$ \\begin{equation} M=\n",
        "\\begin{pmatrix}\n",
        " 1 & -1 & -1\\\\\n",
        " 1 & -1 & 2\\\\\n",
        " 2 & 1 & k\n",
        "\\end{pmatrix}\n",
        "\\end{equation}$$\n",
        "\n",
        "Transformaciones:\n",
        "\n",
        "1. Fila uno se mantiene\n",
        "2. La fila dos le resto la fila uno.\n",
        "3. Y la fila 3 le resto dos veces la fila uno.\n",
        "\n",
        "De esta manera, la matriz resultante:\n",
        "\n",
        "$$ \\begin{equation} M=\n",
        "\\begin{pmatrix}\n",
        " 1 & -1 & -1\\\\\n",
        " 0 & 0 & 3\\\\\n",
        " 0 & 3 & k+2\n",
        "\\end{pmatrix}\n",
        "\\end{equation}$$\n",
        "\n",
        "En este caso podemos  comprobar cómo, independientemente del valor de k, ninguna fila será (0 0 0), por lo tanto, el rango de la matriz es 3."
      ],
      "metadata": {
        "id": "syNeB_UEx-FJ"
      }
    },
    {
      "cell_type": "markdown",
      "source": [
        "**RESOLUCION ECUACIONES MATRICIALES**"
      ],
      "metadata": {
        "id": "VXeZiV2O0Hi3"
      }
    },
    {
      "cell_type": "markdown",
      "source": [
        "Definición\n",
        "La resolución de ecuaciones matriciales implica encontrar las soluciones para un sistema de ecuaciones lineales utilizando matrices. Una ecuación matricial se representa de la siguiente manera:\n",
        "\n",
        "AX = B\n",
        "\n",
        "Donde A es una matriz de coeficientes, X es un vector de incógnitas y B es un vector de términos constantes. El objetivo es encontrar el vector X que satisface esta ecuación.\n",
        "\n",
        "Para resolver una ecuación matricial, existen varios métodos, pero uno de los más comunes es el método de eliminación de Gauss-Jordan. A través de este método, se aplican operaciones elementales a las filas de la matriz ampliada [A|B] para reducir la matriz a una forma escalonada o reducida por filas.\n",
        "\n",
        "El proceso consiste en realizar operaciones elementales, como intercambiar filas, multiplicar una fila por un escalar y sumar o restar múltiplos de una fila a otra fila, con el objetivo de obtener una matriz escalonada o reducida por filas que permita identificar de manera más sencilla las soluciones del sistema de ecuaciones.\n",
        "\n",
        "Una vez que se ha obtenido la forma escalonada o reducida por filas, se pueden determinar las soluciones del sistema. Si la matriz escalonada o reducida por filas tiene una fila nula y el término correspondiente en el vector B no es cero, entonces el sistema es inconsistente y no tiene solución. Si todas las filas tienen un pivote (elemento no nulo) y no hay filas nulas, entonces el sistema es consistente y tiene una única solución. Si hay filas nulas sin términos correspondientes no nulos en el vector B, el sistema tiene infinitas soluciones.\n",
        "\n",
        "En el caso de sistemas con infinitas soluciones, se puede expresar la solución en términos de parámetros o variables libres. Estas variables libres permiten establecer relaciones entre las incógnitas y dar lugar a múltiples soluciones.\n",
        "\n",
        "En resumen, la resolución de ecuaciones matriciales implica utilizar métodos como la eliminación de Gauss-Jordan para reducir la matriz ampliada a una forma escalonada o reducida por filas, lo que nos permite determinar si el sistema es consistente o inconsistente, y encontrar las soluciones del sistema en caso de que existan."
      ],
      "metadata": {
        "id": "QU1qrs180Z99"
      }
    },
    {
      "cell_type": "markdown",
      "source": [
        "#**DETERMINANTES** **#2**"
      ],
      "metadata": {
        "id": "dEmbI_DS3ife"
      }
    },
    {
      "cell_type": "markdown",
      "source": [
        "Los determinantes son una función matemática que se aplica a matrices cuadradas y proporciona información sobre propiedades importantes de la matriz. El determinante se denota generalmente como det(A), donde A es la matriz a la que se le aplica la función.\n",
        "\n",
        "El determinante de una matriz cuadrada de orden n se calcula de manera sistemática utilizando operaciones matemáticas específicas llamadas operaciones elementales de fila o columna. El resultado final es un número escalar que representa una cantidad importante asociada a la matriz.\n",
        "\n",
        "El determinante de una matriz proporciona información sobre varias propiedades de la matriz, como si la matriz es invertible o no. Si el determinante es cero, la matriz es singular y no tiene una matriz inversa. Si el determinante es diferente de cero, la matriz es no singular y tiene una matriz inversa.\n",
        "\n",
        "Además, el determinante también se utiliza para calcular otros conceptos importantes en álgebra lineal, como los valores propios y los vectores propios de una matriz. También se utiliza en el cálculo de sistemas de ecuaciones lineales, áreas de paralelogramos y volúmenes de paralelepípedos en espacios tridimensionales, entre otros usos."
      ],
      "metadata": {
        "id": "NyYVFpXY3m3y"
      }
    },
    {
      "cell_type": "markdown",
      "source": [
        "**EJEMPLO**\n",
        "\n",
        "Matriz de dimensión 2x2\n",
        "\n",
        "$$ \\begin{equation} A=\n",
        "\\begin{pmatrix}\n",
        " 2 & 0\\\\\n",
        " -1 & 3\\\\\n",
        "\\end{pmatrix}\n",
        "\\end{equation}$$\n",
        "\n",
        "Restamos los productos de los elementos de las diagonales:\n",
        "\n",
        "$$\\begin{equation}\n",
        "\\begin{vmatrix}\n",
        "2 & 0\\\\\n",
        "-1 & 3\n",
        "\\end{vmatrix}= 2*3-0*(-1)=6\n",
        "\\end{equation}$$\n",
        "\n",
        "Matriz de dimensión 3x3\n",
        "\n",
        "$$ \\begin{equation} M=\n",
        "\\begin{pmatrix}\n",
        " 3 & 2 & -3\\\\\n",
        " 7 & -1 & 0\\\\\n",
        " 2 & -4 & 5\n",
        "\\end{pmatrix}\n",
        "\\end{equation}$$\n",
        "\n",
        "Calculamos el determinante aplicando Sarrus:\n",
        "\n",
        "$$\\begin{equation}\n",
        "\\begin{vmatrix}\n",
        "3 & 2 & -3\\\\\n",
        "7 & -1 & 0\\\\ \n",
        "2 & -4 & 5\n",
        "\\end{vmatrix}=3*(-1)*5+2*0*2+7*(-4)*(-3)-(-3)*(-1)*2-2*7*5-0*(-4)*3=-15+84-6-70=-7\n",
        "\\end{equation}$$\n"
      ],
      "metadata": {
        "id": "oRbbubRr8_i0"
      }
    },
    {
      "cell_type": "code",
      "source": [
        "import numpy as np\n",
        "\n",
        "def gauss_determinant(matrix):\n",
        "    n = len(matrix)\n",
        "    augmented_matrix = np.copy(matrix)\n",
        "    det = 1\n",
        "    \n",
        "    for i in range(n - 1):\n",
        "        # Pivoteo parcial\n",
        "        max_row = i + np.argmax(np.abs(augmented_matrix[i:, i]))\n",
        "        if max_row != i:\n",
        "            augmented_matrix[[i, max_row]] = augmented_matrix[[max_row, i]]\n",
        "            det *= -1\n",
        "        \n",
        "        # Escalonamiento\n",
        "        pivot = augmented_matrix[i, i]\n",
        "        if pivot == 0:\n",
        "            return 0  # Si el pivote es cero, el determinante es cero\n",
        "        det *= pivot\n",
        "        \n",
        "        for j in range(i + 1, n):\n",
        "            factor = augmented_matrix[j, i] / pivot\n",
        "    \n",
        "    # Producto de los elementos diagonales\n",
        "    det *= np.prod(np.diag(augmented_matrix))\n",
        "    \n",
        "    return det\n",
        "\n",
        "# Ejemplo de uso\n",
        "matrix = np.array([[2, 1], [4, 3]])\n",
        "determinant = gauss_determinant(matrix)\n",
        "print(\"Matriz:\\n\", matrix)\n",
        "print(\"Determinante:\", determinant)\n"
      ],
      "metadata": {
        "colab": {
          "base_uri": "https://localhost:8080/"
        },
        "id": "rpz3d9UmX6zN",
        "outputId": "ab673e9e-8bf2-4353-ee70-c37846637621"
      },
      "execution_count": null,
      "outputs": [
        {
          "output_type": "stream",
          "name": "stdout",
          "text": [
            "Matriz:\n",
            " [[2 1]\n",
            " [4 3]]\n",
            "Determinante: -16\n"
          ]
        }
      ]
    },
    {
      "cell_type": "markdown",
      "metadata": {
        "id": "xYIjLIRBVmk7"
      },
      "source": [
        "**Propiedades de la función determinante**\n",
        "\n",
        "* El determinante de una matriz triangular es igual al producto de sus componentes en la diagonal.\n",
        "Es decir que sea $A$ una matriz como la que se muestra a continuacion:\n",
        "\n",
        "$$\\begin{equation} A_{n\\times n} =\n",
        "\\begin{pmatrix}\n",
        "a_{11} & 0 & \\cdots & 0\\\\\n",
        "a_{21} & a_{22} & \\cdots & 0\\\\\n",
        "\\vdots & \\vdots & \\ddots & \\vdots\\\\\n",
        "a_{n1} & a_{n2} & \\cdots & a_{nn}\n",
        "\\end{pmatrix}\n",
        "\\end{equation}$$\n",
        "\n",
        "Entonces $det(A)$= $a_{11}$*$a_{22}$*$a_{33}$*....*$a_{nn}$\n",
        "\n"
      ]
    },
    {
      "cell_type": "markdown",
      "source": [
        "#**DESARROLLO DEL TEOREMA DE LAPLACE**"
      ],
      "metadata": {
        "id": "X_D2uu5bCiYP"
      }
    },
    {
      "cell_type": "markdown",
      "source": [
        "El teorema de Laplace, también conocido como expansión de Laplace o adjuntos de matrices, es una técnica utilizada en la teoría de matrices para calcular determinantes de matrices de tamaño n × n. Fue desarrollado por el matemático francés Pierre-Simon Laplace a finales del siglo XVIII.\n",
        "\n",
        "El teorema de Laplace establece que el determinante de una matriz cuadrada se puede calcular como la suma de los productos de los elementos de una fila o columna por sus respectivos cofactores. Un cofactor es el determinante de la submatriz obtenida al eliminar la fila y la columna del elemento correspondiente.\n",
        "\n",
        "Para ilustrar el teorema de Laplace, consideremos una matriz A de tamaño n × n. El determinante de A se denota como |A| o det(A). El teorema de Laplace se puede enunciar de la siguiente manera:\n",
        "\n",
        "|A| = a₁₁C₁₁ + a₁₂C₁₂ + ... + a₁ₙC₁ₙ\n",
        "\n",
        "donde aᵢⱼ representa el elemento en la fila i y columna j de la matriz A, y Cᵢⱼ es el cofactor correspondiente.\n",
        "\n",
        "El cofactor Cᵢⱼ se calcula tomando el determinante de la submatriz obtenida al eliminar la fila i y la columna j de A, y luego multiplicando ese determinante por (-1)^(i+j) para alternar los signos de los cofactores en la suma.\n",
        "\n",
        "Este proceso se repite para cada elemento de la primera fila (o cualquier otra fila o columna) de la matriz, sumando los productos de los elementos por sus cofactores correspondientes. Finalmente, se obtiene el determinante de la matriz A.\n",
        "\n",
        "El teorema de Laplace es una técnica útil para calcular determinantes de matrices de cualquier tamaño. Sin embargo, su aplicación puede volverse computacionalmente costosa para matrices grandes debido a la necesidad de calcular muchos determinantes más pequeños. En tales casos, pueden utilizarse otras técnicas más eficientes, como la eliminación de Gauss-Jordan.\n",
        "\n"
      ],
      "metadata": {
        "id": "pTN9J27OCi6l"
      }
    },
    {
      "cell_type": "markdown",
      "source": [
        "$$\\begin{equation} A= \n",
        "\\begin{pmatrix}\n",
        "a_{1,1} & a_{1,2} & a_{1,3} & a_{1,4} & a_{1,5}\\\\\n",
        "a_{2,1} & a_{2,2} & a_{2,3} & a_{2,4} & a_{2,5} \\\\\n",
        "a_{3,1} & a_{3,2} & a_{3,3} & a_{3,4} & a_{3,5} \\\\\n",
        "a_{4,1} & a_{4,2} & a_{4,3} & a_{4,4} & a_{4,5} \\\\\n",
        "a_{5,1} & a_{5,2} & a_{5,3} & a_{5,4} & a_{5,5}\n",
        "\\end{pmatrix}\n",
        "\\end{equation}$$\n"
      ],
      "metadata": {
        "id": "k62YYmw5DIM0"
      }
    },
    {
      "cell_type": "markdown",
      "source": [
        "#**CALCULO DE DETERMINATES POR EL METODO DE SARRUZ**"
      ],
      "metadata": {
        "id": "wmFOXM-5Ef2y"
      }
    },
    {
      "cell_type": "markdown",
      "source": [
        "El método de Sarrus es una técnica para calcular determinantes de matrices cuadradas de orden 3x3. Aquí te explico paso a paso cómo aplicar el método de Sarrus:\n",
        "\n",
        "Dada una matriz A de la forma:\n",
        "\n",
        "\n",
        "$$\\begin{equation} A= \n",
        "\\begin{pmatrix}\n",
        "a_{1,1} & a_{1,2} & a_{1,3} \\\\\n",
        "a_{2,1} & a_{2,2} & a_{2,3} \\\\\n",
        "a_{3,1} & a_{3,2} & a_{3,3}\n",
        "\\end{pmatrix}\n",
        "\\end{equation}$$\n",
        "\n",
        "\n",
        "1. Escribe la matriz original A y, debajo de ella, repite las dos primeras columnas de A.\n",
        "\n",
        "    \n",
        "\n",
        "$$\\begin{equation} A= \n",
        "\\begin{pmatrix}\n",
        "a_{1,1} & a_{1,2} & a_{1,3} \\\\\n",
        "a_{2,1} & a_{2,2} & a_{2,3} \\\\\n",
        "a_{3,1} & a_{3,2} & a_{3,3} \\\\\n",
        "a_{1,1} & a_{1,2} & a_{1,3} \\\\\n",
        "a_{2,1} & a_{2,2} & a_{2,3} \\\\\n",
        "a_{3,1} & a_{3,2} & a_{3,3} \n",
        "\\end{pmatrix}\n",
        "\\end{equation}$$\n",
        "\n",
        "2. Calcula el producto de las tres diagonales descendentes de izquierda a derecha y súmalas. Esto se hace multiplicando los elementos de cada diagonal y sumándolos.\n",
        "\n",
        "   Producto de la primera diagonal: a₁₁ * a₂₂ * a₃₃\n",
        "   Producto de la segunda diagonal: a₁₂ * a₂₃ * a₃₁\n",
        "   Producto de la tercera diagonal: a₁₃ * a₂₁ * a₃₂\n",
        "\n",
        "   Suma de los productos de las diagonales descendentes: (a₁₁ * a₂₂ * a₃₃) + (a₁₂ * a₂₃ * a₃₁) + (a₁₃ * a₂₁ * a₃₂)\n",
        "\n",
        "3. Calcula el producto de las tres diagonales ascendentes de izquierda a derecha y réstalas. Esto se hace multiplicando los elementos de cada diagonal y restándolas.\n",
        "\n",
        "   Producto de la primera diagonal: a₁₃ * a₂₂ * a₃₁\n",
        "   Producto de la segunda diagonal: a₁₁ * a₂₃ * a₃₂\n",
        "   Producto de la tercera diagonal: a₁₂ * a₂₁ * a₃₃\n",
        "\n",
        "   Resta de los productos de las diagonales ascendentes: -[(a₁₃ * a₂₂ * a₃₁) + (a₁₁ * a₂₃ * a₃₂) + (a₁₂ * a₂₁ * a₃₃)]\n",
        "\n",
        "4. Suma los resultados obtenidos en los pasos 2 y 3. El resultado será el valor del determinante de la matriz A.\n",
        "\n",
        "   Determinante de A = (a₁₁ * a₂₂ * a₃₃) + (a₁₂ * a₂₃ * a₃₁) + (a₁₃ * a₂₁ * a₃₂) - [(a₁₃ * a₂₂ * a₃₁) + (a₁₁ * a₂₃ * a₃₂) + (a₁₂ * a₂₁ * a₃₃)]\n",
        "\n",
        "Recuerda que el método de Sarrus solo es aplicable para matrices de orden 3x3. Para matrices de orden superior, es necesario utilizar otros métodos, como la expansión por cofactores o la eliminación de Gauss-Jordan."
      ],
      "metadata": {
        "id": "xPCxNIkjEhh4"
      }
    },
    {
      "cell_type": "markdown",
      "source": [
        "#**APLICACION DE DETERMINANTES PARA CALCULO DEL RANGO DE UNA MATRIZ**"
      ],
      "metadata": {
        "id": "-mV2OWlbFegI"
      }
    },
    {
      "cell_type": "markdown",
      "source": [
        "El cálculo del rango de una matriz se puede realizar utilizando determinantes a través del concepto de matriz de cofactores. El rango de una matriz es igual al número máximo de columnas linealmente independientes en la matriz.\n",
        "\n",
        "Aquí hay un procedimiento paso a paso para calcular el rango de una matriz utilizando determinantes:\n",
        "\n",
        "1. Comienza con una matriz dada. Supongamos que es una matriz cuadrada de orden n.\n",
        "\n",
        "2. Calcula el determinante de la matriz completa. Si el determinante es diferente de cero, el rango será igual al orden de la matriz (rango máximo).\n",
        "\n",
        "3. Si el determinante es cero, procede al siguiente paso.\n",
        "\n",
        "4. Ahora, calcula los determinantes de todas las submatrices de orden (n-1) de la matriz original. Estas submatrices se obtienen eliminando una fila y una columna de la matriz original.\n",
        "\n",
        "5. Si alguno de los determinantes de las submatrices es diferente de cero, el rango de la matriz es igual a (n-1).\n",
        "\n",
        "6. Si todos los determinantes de las submatrices son cero, continúa el proceso y calcula los determinantes de las submatrices de orden (n-2). Elimina dos filas y dos columnas de la matriz original para obtener estas submatrices.\n",
        "\n",
        "7. Sigue repitiendo este proceso hasta que encuentres un determinante diferente de cero o llegues a submatrices de orden 1.\n",
        "\n",
        "8. El rango de la matriz será igual al orden de la submatriz más grande con un determinante diferente de cero.\n",
        "\n",
        "Es importante tener en cuenta que el cálculo del rango de una matriz utilizando determinantes puede ser computacionalmente costoso, especialmente para matrices grandes. En la práctica, existen métodos más eficientes, como la eliminación de Gauss-Jordan o el método de descomposición QR, que se utilizan para calcular el rango de una matriz."
      ],
      "metadata": {
        "id": "O5SL037NHpl7"
      }
    },
    {
      "cell_type": "markdown",
      "source": [
        "**EJEMPLO**\n",
        "\n",
        "Calcula el rango de la siguiente matriz de dimensión 3×4:\n",
        "\n",
        "$$ \\begin{equation}\n",
        "\\begin{pmatrix}\n",
        " 1 & 3 & 4 & -1\\\\\n",
        " 0 & 2 & 1 & -1\\\\\n",
        " 3 & -1 & 7 & 2\n",
        "\\end{pmatrix}\n",
        "\\end{equation}$$\n",
        "\n",
        "\n",
        "$$\\begin{equation}\n",
        "\\begin{vmatrix}\n",
        "1 & 3 & 4\\\\\n",
        "0 & 2 & 1\\\\ \n",
        "3 & -1 & 7\n",
        "\\end{vmatrix}=14+9+0-24+1-0=0\n",
        "\\end{equation}$$\n",
        "\n",
        "El determinante de las columnas 1, 2 y 3 es 0. Así que ahora tenemos que probar con otro determinante, por ejemplo el de las columnas 1, 2 y 4:\n",
        "\n",
        "$$\\begin{equation}\n",
        "\\begin{vmatrix}\n",
        "1 & 3 & -1\\\\\n",
        "0 & 2 & -1\\\\ \n",
        "3 & -1 & 2\n",
        "\\end{vmatrix}=4-9+0+6-1-0=0\n",
        "\\end{equation}$$\n",
        "\n",
        "También nos ha dado 0. Así que seguimos probando determinantes de orden 3 para ver si hay alguno distinto de 0. Probamos ahora el determinante formado por las columnas 1, 3 y 4:\n",
        "\n",
        "$$\\begin{equation}\n",
        "\\begin{vmatrix}\n",
        "1 & 4 & -1\\\\\n",
        "0 & 1 & -1\\\\ \n",
        "3 & 7 & 2\n",
        "\\end{vmatrix}=2-12+0+3+7-0=0\n",
        "\\end{equation}$$\n",
        "\n",
        "De determinantes de orden 3 solo nos queda por intentar el determinante compuesto por las columnas 2, 3 y 4:\n",
        "\n",
        "$$\\begin{equation}\n",
        "\\begin{vmatrix}\n",
        "3 & 4 & -1\\\\\n",
        "2 & 1 & -1\\\\ \n",
        "-1 & 7 & 2\n",
        "\\end{vmatrix}=6+4-14-1+21-16=0\n",
        "\\end{equation}$$\n",
        "\n",
        "Ya hemos probado todos los determinantes 3×3 posibles de la matriz A, y como ninguno de esos es diferente de 0, la matriz no es de rango 3. Por tanto, como máximo, será de rango 2.\n",
        "\n",
        "  **rg(A) < 3**\n",
        "\n",
        "Ahora vamos a ver si la matriz es de rango 2. Para ello, tenemos que encontrar una submatriz cuadrada de orden 2 cuyo determinante sea diferente de 0. Probaremos con la submatriz 2×2 de la esquina superior izquierda:\n",
        "\n",
        "$$\\begin{equation}\n",
        "\\begin{vmatrix}\n",
        "1 & 3\\\\\n",
        "0 & 2 \n",
        "\\end{vmatrix}=2-0=2≠0\n",
        "\\end{equation}$$\n",
        "\n",
        "Hemos encontrado un determinante de orden 2 diferente de 0 dentro de la matriz. Por tanto, la matriz es de rango 2:\n",
        "\n",
        "**rg(A)=2**\n",
        "\n"
      ],
      "metadata": {
        "id": "LuXPQSTgIRaM"
      }
    },
    {
      "cell_type": "markdown",
      "source": [
        "#**APLICACION DE DETERMINANTES PARA CALCULO DE LA MATRIZ INVERSA**\n",
        "\n"
      ],
      "metadata": {
        "id": "N_aPJ6eNLmNa"
      }
    },
    {
      "cell_type": "markdown",
      "source": [
        "El cálculo de la matriz inversa utilizando determinantes es un método comúnmente utilizado en álgebra lineal. Aquí te presento el proceso paso a paso para calcular la matriz inversa utilizando determinantes:\n",
        "\n",
        "1. Sea A una matriz cuadrada de tamaño nxn que deseamos invertir.\n",
        "2. Calculemos el determinante de la matriz A, denotado como |A|.\n",
        "\n",
        "   |A| = a11C11 + a12C12 + ... + a1nC1n\n",
        "   \n",
        "   Donde aij representa los elementos de la matriz A, y Cij representa el cofactor del elemento aij.\n",
        "\n",
        "3. Calculemos la matriz de cofactores de A, denotada como C.\n",
        "\n",
        "   Cij = (-1)^(i+j) * |Mij|\n",
        "   \n",
        "   Donde Mij representa la matriz resultante de eliminar la i-ésima fila y la j-ésima columna de A, y |Mij| es el determinante de Mij.\n",
        "\n",
        "4. Calculemos la matriz adjunta de A, denotada como adj(A).\n",
        "\n",
        "   adj(A) = C^T\n",
        "   \n",
        "   Donde C^T es la matriz transpuesta de C.\n",
        "\n",
        "5. Calculemos la matriz inversa de A, denotada como A^(-1).\n",
        "\n",
        "   A^(-1) = (1/|A|) * adj(A)\n",
        "   \n",
        "   Es decir, multiplicamos cada elemento de adj(A) por el inverso del determinante de A.\n",
        "\n",
        "Una vez que hayas seguido estos pasos, obtendrás la matriz inversa A^(-1). Recuerda que no todas las matrices son invertibles, por lo que es posible que algunas matrices no tengan inversa. En tales casos, el determinante de la matriz será igual a cero (|A| = 0), lo que indica que no se puede calcular su inversa utilizando este método."
      ],
      "metadata": {
        "id": "zbjS6c9HLmmw"
      }
    },
    {
      "cell_type": "markdown",
      "source": [
        "La condición necesaria y suficiente para que una matriz cuadrada  A  tenga inversa $(A^{-1})$ es que su determinante sea distinto de cero. En este caso, para calcularla, se divide la traspuesta de su adjunta entre el determinante de la matriz dada, es decir:\n",
        "\n",
        "$$\\begin{equation}\n",
        "(A^{-1})=\n",
        "\\begin{pmatrix}\n",
        " (adj (A))^{t}  \\\\  \n",
        "\\hline \n",
        "Det (A) \\\\\n",
        "\\end{pmatrix}, si Det(A)≠0 \n",
        "\\end{equation}$$\n",
        "\n",
        "La siguiente escena realiza el cálculo de la matriz inversa de una dada, calculando el valor de su determinante, la matriz adjunta y, por último, aplicando la fórmula anterior.\n"
      ],
      "metadata": {
        "id": "zVZolRkuvXfa"
      }
    },
    {
      "cell_type": "code",
      "source": [
        "import numpy as np\n",
        "\n",
        "def matrix_inverse(matrix):\n",
        "    det = np.linalg.det(matrix)\n",
        "    \n",
        "    if det == 0:\n",
        "        raise ValueError(\"La matriz no es invertible\")\n",
        "    \n",
        "    adjugate = np.linalg.inv(matrix).T\n",
        "    inverse = adjugate / det\n",
        "    \n",
        "    return inverse\n",
        "\n",
        "# Ejemplo de uso\n",
        "matrix = np.array([[2, 1], [4, 3]])\n",
        "inverse_matrix = matrix_inverse(matrix)\n",
        "print(\"Matriz original:\\n\", matrix)\n",
        "print(\"Matriz inversa:\\n\", inverse_matrix)\n"
      ],
      "metadata": {
        "colab": {
          "base_uri": "https://localhost:8080/"
        },
        "id": "0dwOLj7IYoKo",
        "outputId": "ea663484-58c2-48bd-e3d1-ec4e80672fb5"
      },
      "execution_count": null,
      "outputs": [
        {
          "output_type": "stream",
          "name": "stdout",
          "text": [
            "Matriz original:\n",
            " [[2 1]\n",
            " [4 3]]\n",
            "Matriz inversa:\n",
            " [[ 0.75 -1.  ]\n",
            " [-0.25  0.5 ]]\n"
          ]
        }
      ]
    },
    {
      "cell_type": "markdown",
      "source": [
        "#**SISTEMAS DE ECUACIONES LINEALES (S.E.L.) #3** \n"
      ],
      "metadata": {
        "id": "dvIo-wAbxFVI"
      }
    },
    {
      "cell_type": "markdown",
      "source": [
        "#DEFINICION Y CONSEPTOS BASICOS \n",
        "\n",
        "Definicion:\n",
        "\n",
        "Los sistemas de ecuaciones lineales (SEL) son conjuntos de ecuaciones lineales que se plantean simultáneamente y que involucran múltiples variables. Cada fórmula lineal en el sistema representa una relación lineal entre las variables desconocidas, y el objetivo es encontrar los valores de las variables que satisfacen todas las ecuaciones simultáneamente.\n",
        "\n",
        "Un sistema de ecuaciones lineales se puede representar en forma matricial utilizando matrices y vectores. En este caso, las ecuaciones se agrupan en una matriz llamada matriz de coeficientes, los valores desconocidos se agrupan en un vector de incógnitas y los términos constantes se agrupan en un vector independiente. La resolución de un sistema de ecuaciones lineales implica encontrar los valores del vector de incógnitas que hacen que todas las válidas sean válidas.\n",
        "\n",
        "Existen diferentes métodos para resolver sistemas de ecuaciones lineales, como el método de eliminación de Gauss-Jordan, el método de sustitución, el método de matriz inversa y el método de Cramer, entre otros. Estos métodos permiten encontrar las soluciones únicas del sistema (si existen) o determinar si el sistema es inconsistente o tiene infinitas soluciones.\n",
        "\n",
        "Los sistemas de ecuaciones lineales se utilizan ampliamente en diversas áreas de las y la física, así como en la resolución de problemas prácticos en ciencias de la ingeniería, economía y otras disciplinas.\n",
        "\n",
        "Conseptos: \n",
        "\n",
        "1. Sistema de ecuaciones lineales: Un sistema de ecuaciones lineales es un conjunto de ecuaciones lineales que se presentan juntas y se resuelven simultáneamente. Cada ecuación del sistema tiene una o más variables y el objetivo es encontrar los valores de las variables que satisfacen todas las ecuaciones simultáneamente.\n",
        "\n",
        "2. Ecuación lineal: Una ecuación lineal es una ecuación en la que cada término es una constante o el producto de una constante y una variable de primer grado. Generalmente se escribe en la forma ax + by + cz + ... = d, donde a, b, c, ... son coeficientes, x, y, z, ... son las variables y d es un término constante.\n",
        "\n",
        "3. Solución de un sistema de ecuaciones: La solución de un sistema de ecuaciones lineales es un conjunto de valores para las variables que satisface todas las ecuaciones del sistema. Dependiendo del número de soluciones, un sistema puede tener una solución única, infinitas soluciones o ninguna solución.\n",
        "\n",
        "4. Matriz de coeficientes: En un sistema de ecuaciones, los coeficientes de las variables se organizan en una matriz llamada matriz de coeficientes. Esta matriz tiene tantas filas como ecuaciones y tantas columnas como variables.\n",
        "\n",
        "5. Matriz ampliada: La matriz ampliada es una extensión de la matriz de coeficientes que incluye el término constante de cada ecuación. Se forma añadiendo una columna adicional a la matriz de coeficientes y colocando los términos constantes en esa columna.\n",
        "\n",
        "6. Forma matricial: Los sistemas de ecuaciones lineales se pueden representar en forma matricial utilizando matrices de coeficientes y matrices ampliadas. En forma matricial, el sistema se puede escribir como AX = B, donde A es la matriz de coeficientes, X es el vector de variables y B es la matriz ampliada.\n",
        "\n",
        "7. Métodos de resolución: Hay varios métodos para resolver sistemas de ecuaciones lineales, incluyendo el método de eliminación, el método de sustitución y el método de matrices. Estos métodos implican la manipulación algebraica de las ecuaciones para encontrar los valores de las variables.\n",
        "\n",
        "8. Intersección de rectas o planos: En el contexto gráfico, la solución de un sistema de ecuaciones lineales en dos variables corresponde a los puntos de intersección de las rectas en el plano. En tres variables, la solución corresponde a la intersección de los planos en el espacio.\n",
        "\n",
        "Estos son solo algunos conceptos básicos sobre los sistemas de ecuaciones lineales."
      ],
      "metadata": {
        "id": "g1V_aDOUxk3s"
      }
    },
    {
      "cell_type": "code",
      "source": [
        "import numpy as np\n",
        "\n",
        "def calculate_triangle_area(vertices):\n",
        "    # Agregar la primera coordenada al final para cerrar el triángulo\n",
        "    vertices = np.vstack((vertices, vertices[0]))\n",
        "    \n",
        "    # Calcular el determinante de la matriz de coordenadas\n",
        "    \n",
        "    # Calcular el área del triángulo como la mitad del valor absoluto del determinante\n",
        "    area = 0.5 * abs(determinant)\n",
        "    \n",
        "    return area\n",
        "\n",
        "# Ejemplo de uso\n",
        "triangle_vertices = np.array([[0, 0], [1, 0], [0, 1]])\n",
        "area = calculate_triangle_area(triangle_vertices)\n",
        "print(\"Vértices del triángulo:\\n\", triangle_vertices)\n",
        "print(\"Área del triángulo:\", area)\n"
      ],
      "metadata": {
        "colab": {
          "base_uri": "https://localhost:8080/"
        },
        "id": "oCJRNMqHY2V4",
        "outputId": "0320fc80-9bac-4374-b58b-5b7674b53e36"
      },
      "execution_count": null,
      "outputs": [
        {
          "output_type": "stream",
          "name": "stdout",
          "text": [
            "Vértices del triángulo:\n",
            " [[0 0]\n",
            " [1 0]\n",
            " [0 1]]\n",
            "Área del triángulo: 8.0\n"
          ]
        }
      ]
    },
    {
      "cell_type": "markdown",
      "source": [
        "#APLICACION DEL TEOREMA DE ROUCHE FROBENIUS. DISCUSION DE S.E.L\n",
        "\n",
        "El Teorema de Rouché-Frobenius es una herramienta fundamental para la discusión de sistemas de ecuaciones lineales (SEL) y nos proporciona información sobre las soluciones del sistema. A continuación, se presenta una aplicación del teorema y una discusión general de un SEL.\n",
        "\n",
        "Aplicación del Teorema de Rouché-Frobenius:\n",
        "El Teorema de Rouché-Frobenius establece que un sistema de ecuaciones lineales tiene solución si y solo si el rango de la matriz de coeficientes es igual al rango de la matriz ampliada. Además, si ambos rangos son iguales al número de incógnitas del sistema, entonces el sistema tiene una única solución. Si el rango de la matriz de coeficientes es menor que el rango de la matriz ampliada, el sistema no tiene solución.\n",
        "\n",
        "Por lo tanto, para aplicar el teorema, se debe calcular el rango de la matriz de coeficientes y el rango de la matriz ampliada y compararlos.\n",
        "\n",
        "Discusión de un SEL:\n",
        "La discusión de un sistema de ecuaciones lineales implica analizar sus soluciones posibles y determinar si el sistema tiene solución única, infinitas soluciones o no tiene solución. Aquí hay algunos pasos clave en la discusión de un SEL:\n",
        "\n",
        "Determinar el número de incógnitas: Identifica el número de variables desconocidas en el sistema y denótalas como x1, x2, ..., xn.\n",
        "\n",
        "Escribir el sistema en forma matricial: Representa el sistema de ecuaciones en forma matricial utilizando la matriz de coeficientes y la matriz ampliada. Esto te permite trabajar de manera más ordenada con el sistema.\n",
        "\n",
        "Calcular los rangos: Determina el rango de la matriz de coeficientes y el rango de la matriz ampliada. Puedes hacer esto mediante técnicas como la eliminación de Gauss-Jordan o utilizando propiedades de las matrices.\n",
        "\n",
        "Comparar los rangos: Compara los rangos obtenidos en el paso anterior. Si el rango de la matriz de coeficientes es igual al rango de la matriz ampliada y ambos son iguales al número de incógnitas, entonces el sistema tiene una única solución. Si el rango de la matriz de coeficientes es menor que el rango de la matriz ampliada, el sistema no tiene solución. En otros casos, el sistema puede tener infinitas soluciones.\n",
        "\n",
        "Expresar la solución (si existe): Si el sistema tiene solución, puedes utilizar técnicas adicionales como la sustitución o la eliminación para encontrar la solución particular o paramétrica del sistema, según sea el caso.\n",
        "\n",
        "Es importante destacar que estos pasos son generales y pueden variar dependiendo de la complejidad del sistema y las características específicas del SEL. Además, existen otros métodos alternativos para la discusión de SEL, como la matriz inversa y el determinante, que pueden aplicarse en situaciones particulares.\n",
        "\n",
        "$$ \\begin{equation}\n",
        "\\begin{pmatrix}\n",
        " 1 & 1 & 2\\\\\n",
        " -4 & -1 & -5\\\\\n",
        " 3 & 1 & 4\n",
        "\\end{pmatrix} \n",
        "\\begin{pmatrix}\n",
        " x \\\\\n",
        " y \\\\\n",
        " z \n",
        "\\end{pmatrix} =\n",
        "\\begin{pmatrix}\n",
        " b_{1} \\\\\n",
        " b_{2} \\\\\n",
        " b_{3}\n",
        "\\end{pmatrix}\n",
        "\\end{equation}$$\n",
        "\n",
        "$$ \\begin{equation}a) Si\n",
        "\\begin{pmatrix}\n",
        " b_{1} \\\\\n",
        " b_{2} \\\\\n",
        " b_{3}\n",
        "\\end{pmatrix} =\n",
        "\\begin{pmatrix}\n",
        " 0 \\\\\n",
        " 0 \\\\\n",
        " 0\n",
        "\\end{pmatrix}, el \\quad sistema \\quad es \\quad compatible \\quad determinado. \n",
        "\\end{equation}$$\n",
        "\n",
        "$$ \\begin{equation}b) Si\n",
        "\\begin{pmatrix}\n",
        " b_{1} \\\\\n",
        " b_{2} \\\\\n",
        " b_{3}\n",
        "\\end{pmatrix} =\n",
        "\\begin{pmatrix}\n",
        " 1 \\\\\n",
        " 1 \\\\\n",
        " 1\n",
        "\\end{pmatrix}, el \\quad sistema \\quad es \\quad compatible \\quad indeterminado.\n",
        "\\end{equation}$$\n"
      ],
      "metadata": {
        "id": "FlMKiVwHw31f"
      }
    },
    {
      "cell_type": "code",
      "source": [
        "import numpy as np\n",
        "\n",
        "def rouche_frobenius(A, b):\n",
        "    n = A.shape[0]\n",
        "    augmented_matrix = np.concatenate((A, b.reshape(n, 1)), axis=1)\n",
        "    rank_A = np.linalg.matrix_rank(A)\n",
        "    rank_augmented = np.linalg.matrix_rank(augmented_matrix)\n",
        "\n",
        "    if rank_A == rank_augmented:\n",
        "        if rank_A == n:\n",
        "            return \"El sistema tiene solución única.\"\n",
        "        else:\n",
        "            return \"El sistema tiene soluciones infinitas.\"\n",
        "    else:\n",
        "        return \"El sistema no tiene solución.\"\n",
        "\n",
        "# Ejemplo de uso\n",
        "A = np.array([[1, 2, 3], [4, 5, 6], [7, 8, 9]])\n",
        "b = np.array([1, 2, 3])\n",
        "result = rouche_frobenius(A, b)\n",
        "print(\"Matriz de coeficientes A:\\n\", A)\n",
        "print(\"Vector b:\\n\", b)\n",
        "print(\"Resultado:\", result)\n"
      ],
      "metadata": {
        "colab": {
          "base_uri": "https://localhost:8080/"
        },
        "id": "tMPUoIMBZEih",
        "outputId": "eec69ab2-3231-44a8-b647-773c36c0d15d"
      },
      "execution_count": null,
      "outputs": [
        {
          "output_type": "stream",
          "name": "stdout",
          "text": [
            "Matriz de coeficientes A:\n",
            " [[1 2 3]\n",
            " [4 5 6]\n",
            " [7 8 9]]\n",
            "Vector b:\n",
            " [1 2 3]\n",
            "Resultado: El sistema tiene soluciones infinitas.\n"
          ]
        }
      ]
    },
    {
      "cell_type": "markdown",
      "source": [
        "#METODO DE RESOLUCION: MATRIZ INVERSA; ELIMINACION GAUSSIANA.\n",
        "\n",
        "Método de resolución: Matriz inversa\n",
        "El método de resolución utilizando la matriz inversa es una técnica algebraica para resolver sistemas de ecuaciones lineales. Aquí están los pasos generales para aplicar este método:\n",
        "\n",
        "1. Escribe el sistema de ecuaciones lineales en forma matricial. Por ejemplo, para un sistema de 3 ecuaciones con 3 incógnitas:\n",
        "\n",
        "   AX = B\n",
        "\n",
        "   Donde A es la matriz de coeficientes, X es el vector de variables y B es la matriz ampliada.\n",
        "\n",
        "2. Calcula la matriz inversa de A. La matriz inversa de A, denotada por A^(-1), se calcula si A es una matriz cuadrada y su determinante es distinto de cero. Puedes utilizar métodos como la eliminación de Gauss-Jordan o la adjunta de la matriz para calcular la matriz inversa.\n",
        "\n",
        "3. Multiplica ambos lados de la ecuación por la matriz inversa de A. Tienes la siguiente ecuación:\n",
        "\n",
        "   A^(-1)AX = A^(-1)B\n",
        "\n",
        "   Simplificando, obtenemos:\n",
        "\n",
        "   X = A^(-1)B\n",
        "\n",
        "   Esto nos da la solución del sistema, donde X es el vector de variables.\n",
        "\n",
        "4. Calcula el producto de la matriz inversa A^(-1) por la matriz ampliada B para obtener el vector solución X.\n",
        "\n",
        "Este método es útil cuando la matriz de coeficientes es cuadrada y su inversa existe. Sin embargo, calcular la matriz inversa puede ser computacionalmente costoso para matrices grandes, por lo que en la práctica, se utilizan métodos más eficientes como la eliminación Gaussiana.\n"
      ],
      "metadata": {
        "id": "h3qAGHY-0BVx"
      }
    },
    {
      "cell_type": "markdown",
      "source": [
        "EJEMPLO\n",
        "\n",
        "Método de resolución: Matriz inversa\n",
        "\n",
        "$$ \\begin{equation}\n",
        "\\begin{pmatrix}\n",
        " 1 & 1 & 3 & | & 1 & 0 & 0 \\\\ \n",
        " 1 & 4 & 3 & | & 0 & 1 & 0 \\\\\n",
        " 1 & 3 & 4 & | & 0 & 0 & 1 \n",
        "\\end{pmatrix} \n",
        "\\end{equation}$$\n",
        "\n",
        "$$ \\begin{equation}\n",
        "\\begin{pmatrix}\n",
        " 1 & 1 & 3 & | & 1 & 0 & 0 \\\\ \n",
        " 1 & 4 & 3 & | & 0 & 1 & 0 \\\\\n",
        " 1 & 3 & 4 & | & 0 & 0 & 1 \n",
        "\\end{pmatrix}  F_{2}=F_{2}-F_{1}\n",
        "\\begin{pmatrix}\n",
        " 1 & 1 & 3 & | & 1 & 0 & 0 \\\\ \n",
        " 0 & 1 & 0 & | & -1 & 1 & 0 \\\\\n",
        " 1 & 3 & 4 & | & 0 & 0 & 1 \n",
        "\\end{pmatrix}\n",
        "\\end{equation}$$\n",
        "\n",
        "$$ \\begin{equation}\n",
        "\\begin{pmatrix}\n",
        " 1 & 3 & 3 & | & 1 & 0 & 0 \\\\ \n",
        " 0 & 1 & 0 & | & -1 & 1 & 0 \\\\\n",
        " 1 & 3 & 4 & | & 0 & 0 & 1 \n",
        "\\end{pmatrix}  F_{3}=F_{3}-F_{1}\n",
        "\\begin{pmatrix}\n",
        " 1 & 0 & 3 & | & 1 & 0 & 0 \\\\ \n",
        " 0 & 1 & 0 & | & -1 & 1 & 0 \\\\\n",
        " 0 & 0 & 1 & | & -1 & 0 & 1 \n",
        "\\end{pmatrix}\n",
        "\\end{equation}$$\n",
        "\n",
        "$$ \\begin{equation}\n",
        "\\begin{pmatrix}\n",
        " 1 & 3 & 3 & | & 1 & 0 & 0 \\\\ \n",
        " 0 & 1 & 0 & | & -1 & 1 & 0 \\\\\n",
        " 0 & 0 & 1 & | & -1 & 0 & 1 \n",
        "\\end{pmatrix}  F_{1}=F_{1}-3*F_{2}\n",
        "\\begin{pmatrix}\n",
        " 1 & 0 & 3 & | & 4 & -3 & 0 \\\\ \n",
        " 0 & 1 & 0 & | & -1 & 1 & 0 \\\\\n",
        " 0 & 0 & 1 & | & -1 & 0 & 1 \n",
        "\\end{pmatrix}\n",
        "\\end{equation}$$\n",
        "\n",
        "$$ \\begin{equation}\n",
        "\\begin{pmatrix}\n",
        " 1 & 3 & 3 & | & 1 & 0 & 0 \\\\ \n",
        " 0 & 1 & 0 & | & -1 & 1 & 0 \\\\\n",
        " 0 & 0 & 1 & | & -1 & 0 & 1 \n",
        "\\end{pmatrix}  F_{1}=F_{1}-3*F_{3}\n",
        "\\begin{pmatrix}\n",
        " 1 & 0 & 0 & | & 7 & -3 & -3 \\\\ \n",
        " 0 & 1 & 0 & | & -1 & 1 & 0 \\\\\n",
        " 0 & 0 & 1 & | & -1 & 0 & 1 \n",
        "\\end{pmatrix}\n",
        "\\end{equation}$$\n",
        "\n",
        "$$ \\begin{equation}B^{-1}=\n",
        "\\begin{pmatrix} \n",
        " 7 & -3 & 3 \\\\ \n",
        " -1 & 1 & 0 \\\\\n",
        " -1 & 0 & 1   \n",
        "\\end{pmatrix} \n",
        "\\end{equation}$$"
      ],
      "metadata": {
        "id": "ivu_RXU92LkX"
      }
    },
    {
      "cell_type": "code",
      "source": [
        "import numpy as np\n",
        "\n",
        "def solve_system(matrix_A, vector_b):\n",
        "    # Obtener la matriz inversa de A\n",
        "    inverse_A = np.linalg.inv(matrix_A)\n",
        "    \n",
        "    # Multiplicar la matriz inversa por el vector b\n",
        "    solution = np.dot(inverse_A, vector_b)\n",
        "    \n",
        "    return solution\n",
        "\n",
        "# Ejemplo de uso\n",
        "matrix_A = np.array([[2, 1], [4, 3]])\n",
        "vector_b = np.array([1, 2])\n",
        "solution = solve_system(matrix_A, vector_b)\n",
        "print(\"Matriz de coeficientes A:\\n\", matrix_A)\n",
        "print(\"Vector b:\\n\", vector_b)\n",
        "print(\"Solución del sistema:\", solution)\n"
      ],
      "metadata": {
        "colab": {
          "base_uri": "https://localhost:8080/"
        },
        "id": "avljtBstZNcK",
        "outputId": "81f112d0-fd15-4dbe-958d-d2ffe1ce1a59"
      },
      "execution_count": null,
      "outputs": [
        {
          "output_type": "stream",
          "name": "stdout",
          "text": [
            "Matriz de coeficientes A:\n",
            " [[2 1]\n",
            " [4 3]]\n",
            "Vector b:\n",
            " [1 2]\n",
            "Solución del sistema: [0.5 0. ]\n"
          ]
        }
      ]
    },
    {
      "cell_type": "markdown",
      "source": [
        "#ELIMINACION DE GAUSS-JORDAN\n",
        "\n",
        "Método de resolución: Eliminación Gaussiana\n",
        "La eliminación Gaussiana es un método común para resolver sistemas de ecuaciones lineales. Aquí están los pasos generales para aplicar este método:\n",
        "\n",
        "1. Escribe el sistema de ecuaciones lineales en forma matricial, con la matriz de coeficientes y la matriz ampliada.\n",
        "\n",
        "2. Aplica operaciones elementales de fila para convertir la matriz de coeficientes en una matriz escalonada reducida por filas, utilizando el algoritmo de eliminación Gaussiana. Este algoritmo consiste en realizar operaciones de fila para eliminar las variables desconocidas en las ecuaciones, de modo que la matriz escalonada tenga ceros debajo de la diagonal principal.\n",
        "\n",
        "3. Después de la eliminación Gaussiana, la matriz escalonada se puede expresar en forma triangular superior.\n",
        "\n",
        "4. Resuelve el sistema triangular superior mediante sustitución regresiva, comenzando desde la última ecuación y sustituyendo los valores conocidos en las ecuaciones anteriores para encontrar los valores de las variables desconocidas.\n",
        "\n",
        "5. Obtén la solución del sistema reemplazando los valores de las variables en las ecuaciones originales.\n",
        "\n",
        "Es importante tener en cuenta que en algunos casos, la eliminación Gaussiana puede dar lugar a ecuaciones contradictorias o redundantes, lo que indica que el sistema no tiene solución única o no tiene solución en absoluto.\n",
        "\n"
      ],
      "metadata": {
        "id": "h_1K9sXl8ccO"
      }
    },
    {
      "cell_type": "code",
      "source": [
        "import numpy as np\n",
        "\n",
        "def gauss_jordan_elimination(matrix_A, vector_b):\n",
        "    augmented_matrix = np.column_stack((matrix_A, vector_b))\n",
        "    n = augmented_matrix.shape[0]\n",
        "\n",
        "    for i in range(n):\n",
        "        # Pivoteo parcial\n",
        "        max_row = i + np.argmax(np.abs(augmented_matrix[i:, i]))\n",
        "        augmented_matrix[[i, max_row]] = augmented_matrix[[max_row, i]]\n",
        "\n",
        "        # Escalonamiento\n",
        "        pivot = augmented_matrix[i, i]\n",
        "\n",
        "        for j in range(n):\n",
        "            if j != i:\n",
        "                factor = augmented_matrix[j, i]\n",
        "                augmented_matrix[j] -= factor * augmented_matrix[i]\n",
        "\n",
        "    solution = augmented_matrix[:, n]\n",
        "\n",
        "    return solution\n",
        "\n",
        "# Ejemplo de uso\n",
        "matrix_A = np.array([[2, 1], [4, 3]])\n",
        "vector_b = np.array([1, 2])\n",
        "solution = gauss_jordan_elimination(matrix_A, vector_b)\n",
        "print(\"Matriz de coeficientes A:\\n\", matrix_A)\n",
        "print(\"Vector b:\\n\", vector_b)\n",
        "print(\"Solución del sistema:\", solution)\n"
      ],
      "metadata": {
        "colab": {
          "base_uri": "https://localhost:8080/"
        },
        "id": "EfdF8rN6ZalK",
        "outputId": "ea194bff-eca1-4a5e-8e3c-0b403b295eae"
      },
      "execution_count": null,
      "outputs": [
        {
          "output_type": "stream",
          "name": "stdout",
          "text": [
            "Matriz de coeficientes A:\n",
            " [[2 1]\n",
            " [4 3]]\n",
            "Vector b:\n",
            " [1 2]\n",
            "Solución del sistema: [11 -3]\n"
          ]
        }
      ]
    },
    {
      "cell_type": "markdown",
      "source": [
        "#REGLA DE CRAMER. DISCUSION DE S.E.L\n",
        "\n",
        "La Regla de Cramer es un método para resolver sistemas de ecuaciones lineales utilizando determinantes. Proporciona una solución única para sistemas de ecuaciones con el mismo número de ecuaciones y variables. Sin embargo, es importante destacar que este método solo es aplicable cuando la matriz de coeficientes es invertible, es decir, cuando su determinante es distinto de cero. Aquí están los pasos para aplicar la Regla de Cramer:\n",
        "\n",
        "1. Escribe el sistema de ecuaciones lineales en forma matricial, con la matriz de coeficientes A y el vector de términos constantes B. El sistema se puede escribir como AX = B.\n",
        "\n",
        "2. Calcula el determinante de la matriz de coeficientes A. Si el determinante es igual a cero (det(A) = 0), entonces la Regla de Cramer no es aplicable, y el sistema puede no tener solución única.\n",
        "\n",
        "3. Para encontrar la solución para cada variable desconocida, crea una matriz auxiliar reemplazando cada columna de la matriz de coeficientes A por el vector de términos constantes B. Denotaremos esta matriz auxiliar como A_i.\n",
        "\n",
        "4. Calcula el determinante de cada matriz A_i.\n",
        "\n",
        "5. Para cada variable desconocida x_i, la solución correspondiente se obtiene al dividir el determinante de A_i por el determinante de A:\n",
        "\n",
        "   x_i = det(A_i) / det(A)\n",
        "\n",
        "   Esto se puede hacer para todas las variables del sistema.\n",
        "\n",
        "6. La solución completa del sistema se obtiene al reunir todas las soluciones de las variables desconocidas.\n",
        "\n",
        "Discusión de un sistema de ecuaciones lineales utilizando la Regla de Cramer:\n",
        "\n",
        "1. Determina el número de incógnitas y ecuaciones del sistema.\n",
        "\n",
        "2. Calcula el determinante de la matriz de coeficientes A.\n",
        "\n",
        "3. Si el determinante de A es igual a cero (det(A) = 0), el sistema puede no tener solución única y la Regla de Cramer no es aplicable. En este caso, se deben considerar otras técnicas de resolución.\n",
        "\n",
        "4. Si el determinante de A es distinto de cero (det(A) ≠ 0), puedes proceder a calcular los determinantes de cada matriz auxiliar A_i y encontrar las soluciones de las variables desconocidas utilizando la Regla de Cramer.\n",
        "\n",
        "5. Si el sistema tiene solución única, puedes encontrar los valores específicos de las variables utilizando los determinantes de las matrices auxiliares.\n",
        "\n",
        "Es importante tener en cuenta que la Regla de Cramer puede volverse computacionalmente costosa cuando el número de variables y ecuaciones es grande debido al cálculo de múltiples determinantes. Además, incluso si el sistema tiene una solución única, este método no proporciona una forma eficiente de encontrar numéricamente la solución exacta. En tales casos, pueden ser preferibles métodos como la eliminación Gaussiana o el uso de matrices inversas.\n",
        "\n"
      ],
      "metadata": {
        "id": "JsAzhtLg9p4W"
      }
    },
    {
      "cell_type": "markdown",
      "source": [
        "EJEMPLO\n",
        "\n",
        "\\begin{equation}\n",
        "\\begin{array}{ccc}\n",
        "x &+ &y &+ z&=&1 \\\\\n",
        "x & -&2y &+ 3z&=&2 \\\\\n",
        "x & & &+ z &=&5\\\\\n",
        "\\end{array}\n",
        "\\end{equation}\n",
        "\n",
        "$$ \\begin{equation}Δ=\n",
        "\\begin{vmatrix} \n",
        " 1 & 1 & 1 \\\\ \n",
        " 1 & -2 & 3 \\\\\n",
        " 1 & 0 & 1   \n",
        "\\end{vmatrix}=2 \\quad \\quad\n",
        "Δ_{1}\\begin{vmatrix} \n",
        " 1 & 1 & 1 \\\\ \n",
        " 2 & -2 & 3 \\\\\n",
        " 5 & 0 & 1   \n",
        "\\end{vmatrix}=2\n",
        "\\end{equation}$$\n",
        "\n",
        "\n",
        "\n",
        "\n",
        "\n"
      ],
      "metadata": {
        "id": "S3TzU5x0-cx-"
      }
    },
    {
      "cell_type": "markdown",
      "source": [
        "#DESCOMPOSICIONES LU Y SU APLICACION A LOS SISTEMAS DE ECUACIONES LINEALES Y A LA INVERSION DE MATRICES.\n",
        "\n",
        "La descomposición LU es una técnica utilizada en álgebra lineal para factorizar una matriz cuadrada en el producto de dos matrices triangulares. La sigla \"LU\" representa \"Lower-Upper\" (inferior-superior), refiriéndose a las dos matrices triangulares resultantes.\n",
        "\n",
        "Dada una matriz cuadrada A, la descomposición LU busca encontrar dos matrices, L y U, de manera que A = LU, donde L es una matriz triangular inferior con unos en la diagonal principal, y U es una matriz triangular superior. La descomposición LU puede expresarse matemáticamente de la siguiente manera:\n",
        "\n",
        "A = LU\n",
        "\n",
        "Donde A es la matriz original, L es la matriz triangular inferior y U es la matriz triangular superior. La matriz L tiene ceros en todas las posiciones por encima de la diagonal principal, y la matriz U tiene ceros en todas las posiciones por debajo de la diagonal principal.\n",
        "\n",
        "La descomposición LU tiene varias aplicaciones importantes en álgebra lineal, incluyendo la resolución de sistemas de ecuaciones lineales y la inversión de matrices.\n",
        "\n",
        "Aplicación a sistemas de ecuaciones lineales:\n",
        "Dado un sistema de ecuaciones lineales representado por la matriz A y el vector de términos independientes b, podemos utilizar la descomposición LU para resolver el sistema. Primero, factorizamos la matriz A en LU utilizando el método de descomposición LU. Luego, expresamos el sistema de ecuaciones como:\n",
        "\n",
        "LUx = b\n",
        "\n",
        "Donde x es el vector de incógnitas que queremos resolver. Luego, realizamos una sustitución hacia adelante para resolver el sistema triangular inferior Ly = b, donde y es un vector auxiliar. Finalmente, realizamos una sustitución hacia atrás para resolver el sistema triangular superior Ux = y y obtener la solución x del sistema original.\n",
        "\n",
        "Aplicación a la inversión de matrices:\n",
        "La descomposición LU también se utiliza para calcular la inversa de una matriz. Dado que A = LU, podemos expresar la matriz inversa A^-1 como:\n",
        "\n",
        "A^-1 = (LU)^-1 = U^-1 * L^-1\n",
        "\n",
        "Dado que las matrices L y U son triangulares, su inversión es relativamente fácil de calcular. Primero, invertimos la matriz triangular inferior L utilizando sustituciones hacia adelante. Luego, invertimos la matriz triangular superior U utilizando sustituciones hacia atrás. Finalmente, multiplicamos las dos matrices invertidas, U^-1 y L^-1, para obtener la inversa de A, A^-1.\n",
        "\n",
        "La descomposición LU es una técnica útil ya que, una vez que la matriz A se ha factorizado en L y U, podemos resolver sistemas de ecuaciones lineales y calcular la inversa de A de manera más eficiente, ya que las operaciones de sustitución hacia adelante y hacia atrás en sistemas triangulares son más simples y requieren menos cálculos que la eliminación de Gauss-Jordan utilizada en la resolución de sistemas de ecuaciones y la inversión de matrices."
      ],
      "metadata": {
        "id": "y4WiBrUmxV92"
      }
    },
    {
      "cell_type": "code",
      "source": [
        "import numpy as np\n",
        "from scipy.linalg import lu_solve, lu_factor, inv\n",
        "\n",
        "# Definir la matriz A y el vector b del sistema de ecuaciones Ax = b\n",
        "A = np.array([[2, -1, 1],\n",
        "              [4, 1, -3],\n",
        "              [8, -3, 3]])\n",
        "b = np.array([2, -3, 4])\n",
        "\n",
        "# Realizar la descomposición LU de la matriz A\n",
        "LU, piv = lu_factor(A)\n",
        "\n",
        "# Resolver el sistema de ecuaciones lineales Ax = b utilizando la descomposición LU\n",
        "x = lu_solve((LU, piv), b)\n",
        "print(\"La solución del sistema de ecuaciones es:\", x)\n",
        "\n",
        "# Calcular la inversa de la matriz A utilizando la descomposición LU\n",
        "A_inv = inv(A)\n",
        "print(\"La inversa de la matriz A es:\")\n",
        "print(A_inv)\n"
      ],
      "metadata": {
        "colab": {
          "base_uri": "https://localhost:8080/"
        },
        "id": "4RJiLFQe1TEP",
        "outputId": "4d00d7a1-22ce-4fed-871a-6b85d5a30f79"
      },
      "execution_count": null,
      "outputs": [
        {
          "output_type": "stream",
          "name": "stdout",
          "text": [
            "La solución del sistema de ecuaciones es: [-1.  -6.5 -2.5]\n",
            "La inversa de la matriz A es:\n",
            "[[-1.50000000e+00 -2.77555756e-17  5.00000000e-01]\n",
            " [-9.00000000e+00 -5.00000000e-01  2.50000000e+00]\n",
            " [-5.00000000e+00 -5.00000000e-01  1.50000000e+00]]\n"
          ]
        }
      ]
    },
    {
      "cell_type": "markdown",
      "source": [
        "#**ESPACIOS VECTORIALES #4**"
      ],
      "metadata": {
        "id": "3CYf1off1cd9"
      }
    },
    {
      "cell_type": "markdown",
      "source": [
        "#DEFINICION Y EJEMPLOS DE ESPACIOS VECTORIALES\n",
        "\n",
        "Un espacio vectorial es una estructura matemática que consiste en un conjunto de elementos llamados vectores, junto con dos operaciones: suma de vectores y multiplicación por un escalar. Estas operaciones deben cumplir ciertas propiedades específicas para que el conjunto forme un espacio vectorial.\n",
        "\n",
        "Formalmente, un espacio vectorial sobre un cuerpo (generalmente los números reales o complejos) se define como un conjunto V, junto con dos operaciones:\n",
        "\n",
        "1. Suma de vectores: Para cada par de vectores u y v en V, hay una operación que denotamos como u + v, que produce otro vector en V.\n",
        "2. Multiplicación por un escalar: Para cada vector u en V y cada escalar c, hay una operación que denotamos como cu, que produce otro vector en V.\n",
        "\n",
        "Estas operaciones deben cumplir las siguientes propiedades:\n",
        "\n",
        "1. Asociatividad de la suma: Para todo u, v y w en V, se cumple (u + v) + w = u + (v + w).\n",
        "2. Conmutatividad de la suma: Para todo u y v en V, se cumple u + v = v + u.\n",
        "3. Existencia de elemento neutro de la suma: Existe un vector 0 en V tal que, para todo u en V, se cumple u + 0 = u.\n",
        "4. Existencia de inverso aditivo: Para cada vector u en V, existe un vector -u en V tal que u + (-u) = 0.\n",
        "5. Compatibilidad de la multiplicación por escalares con la suma de vectores: Para cada escalar c y cada par de vectores u y v en V, se cumple c(u + v) = cu + cv.\n",
        "6. Distributividad de la multiplicación por escalares con respecto a la suma de escalares: Para cada par de escalares c y d y cada vector u en V, se cumple (c + d)u = cu + du.\n",
        "7. Distributividad de la multiplicación por escalares con respecto a la multiplicación de escalares: Para cada escalar c y cada par de escalares a y b, se cumple (ab)u = a(bu).\n",
        "8. Identidad multiplicativa: Para cada vector u en V, se cumple 1u = u, donde 1 es el elemento identidad multiplicativa del cuerpo.\n",
        "\n",
        "Ejemplos de espacios vectoriales incluyen:\n",
        "\n",
        "1. El espacio vectorial ℝ^n, que consiste en todos los vectores n-dimensionales con componentes reales. Por ejemplo, ℝ^2 representa el plano euclidiano bidimensional y ℝ^3 representa el espacio tridimensional.\n",
        "2. El espacio vectorial de las matrices cuadradas de tamaño n × n, denotado por M_n, donde las entradas son elementos de un cuerpo dado.\n",
        "3. El espacio vectorial de las funciones continuas definidas en un intervalo [a, b], denotado por C[a, b]. La suma de funciones y la multiplicación por escalares se definen punto por punto.\n",
        "4. El espacio vectorial de los polinomios de grado ≤ n, denotado por P_n. La suma de polinomios y la multiplicación por escalares se definen en términos de los coeficientes de los polinomios.\n",
        "5. El espacio vectorial de las soluciones de un sistema de ecuaciones lineales homogéneo. Los vectores en este espacio representan las soluciones del sistema y las operaciones de suma y multiplicación por escalares se definen en función de las soluciones del sistema."
      ],
      "metadata": {
        "id": "IPmg6dfc1xXo"
      }
    },
    {
      "cell_type": "code",
      "source": [
        "import numpy as np\n",
        "\n",
        "def is_vector_space(vectors):\n",
        "    # Verificar la cerradura bajo la suma\n",
        "    for i in range(len(vectors)-1):\n",
        "        sum_vectors = vectors[i] + vectors[i+1]\n",
        "        if not np.array_equal(sum_vectors, vectors[i] + vectors[i+1]):\n",
        "            return False\n",
        "    \n",
        "    # Verificar la cerradura bajo la multiplicación por un escalar\n",
        "    scalar = 2  # Escalar arbitrario\n",
        "    for vector in vectors:\n",
        "        if not np.array_equal(scalar * vector, scalar * vector):\n",
        "            return False\n",
        "    \n",
        "    # Verificar la existencia del vector cero\n",
        "    zero_vector = np.zeros_like(vectors[0])\n",
        "    if not np.array_equal(zero_vector, zero_vector):\n",
        "        return False\n",
        "    \n",
        "    # Verificar la existencia del inverso aditivo\n",
        "    for vector in vectors:\n",
        "        inverse_vector = -vector\n",
        "        if not np.array_equal(vector + inverse_vector, zero_vector):\n",
        "            return False\n",
        "    \n",
        "    return True\n",
        "\n",
        "# Ejemplo de conjunto de vectores en R^3\n",
        "vectors = [np.array([1, 2, 3]), np.array([-1, 0, 2]), np.array([3, -2, 1])]\n",
        "\n",
        "if is_vector_space(vectors):\n",
        "    print(\"El conjunto de vectores forma un espacio vectorial.\")\n",
        "else:\n",
        "    print(\"El conjunto de vectores no forma un espacio vectorial.\")\n"
      ],
      "metadata": {
        "colab": {
          "base_uri": "https://localhost:8080/"
        },
        "id": "rxhNXTsmaI8F",
        "outputId": "583051b0-7e8d-47d3-a709-2aef5cf5ad2f"
      },
      "execution_count": null,
      "outputs": [
        {
          "output_type": "stream",
          "name": "stdout",
          "text": [
            "El conjunto de vectores forma un espacio vectorial.\n"
          ]
        }
      ]
    },
    {
      "cell_type": "markdown",
      "source": [
        "#SUBESPACIOS VECTORIALES. SUBESPACIOS GENERADORES\n",
        "\n",
        "Un subespacio vectorial es un subconjunto de un espacio vectorial que también es un espacio vectorial en sí mismo. En otras palabras, si tomamos un espacio vectorial V, un subconjunto W de V es un subespacio vectorial si satisface todas las propiedades que definen a un espacio vectorial.\n",
        "\n",
        "Para que un subconjunto W sea un subespacio vectorial de V, debe cumplir las siguientes condiciones:\n",
        "\n",
        "1. El vector cero (0) pertenece a W.\n",
        "2. W es cerrado bajo la suma de vectores. Esto significa que si u y v son vectores en W, entonces u + v también debe estar en W.\n",
        "3. W es cerrado bajo la multiplicación por un escalar. Esto implica que si u es un vector en W y c es un escalar, entonces cu debe estar en W.\n",
        "\n",
        "Un subespacio vectorial puede ser un espacio vectorial en su propia dimensión o puede ser de menor dimensión que el espacio vectorial original. Por ejemplo, si tenemos un espacio vectorial ℝ^3, los planos que pasan por el origen (0, 0, 0) y los ejes coordenados son ejemplos de subespacios vectoriales de ℝ^3.\n",
        "\n",
        "Un subespacio vectorial también puede ser generado por un conjunto de vectores. El conjunto de vectores que genera un subespacio se conoce como conjunto generador.\n",
        "\n",
        "Dado un espacio vectorial V, un conjunto de vectores {v1, v2, ..., vn} se llama conjunto generador de V si todo vector en V puede ser expresado como una combinación lineal de los vectores en ese conjunto. En otras palabras, cualquier vector v en V puede escribirse como v = c1v1 + c2v2 + ... + cnvn, donde c1, c2, ..., cn son escalares.\n",
        "\n",
        "Un conjunto generador puede contener un número finito o infinito de vectores. Por ejemplo, en el espacio vectorial ℝ^3, el conjunto de vectores {(1, 0, 0), (0, 1, 0), (0, 0, 1)} es un conjunto generador, ya que cualquier vector en ℝ^3 puede expresarse como una combinación lineal de estos tres vectores.\n",
        "\n",
        "En resumen, un subespacio vectorial es un subconjunto de un espacio vectorial que también es un espacio vectorial en sí mismo, y un conjunto generador es un conjunto de vectores que puede generar todos los vectores de un espacio vectorial mediante combinaciones lineales."
      ],
      "metadata": {
        "id": "CvsMaFeH3I-8"
      }
    },
    {
      "cell_type": "markdown",
      "source": [
        "#COMBINACION LINEAL. DEPENDENCIA E INDEPENDENCIA LINEAL.\n",
        "\n",
        " La combinación lineal es una operación que involucra la multiplicación de vectores por escalares y su suma. Dado un conjunto de vectores {v1, v2, ..., vn} y los escalares correspondientes {c1, c2, ..., cn}, la combinación lineal de estos vectores se define como:\n",
        "\n",
        "c1v1 + c2v2 + ... + cnvn\n",
        "\n",
        "En otras palabras, es la suma ponderada de los vectores, donde los escalares determinan el peso o la importancia relativa de cada vector en la combinación.\n",
        "\n",
        "La dependencia lineal e independencia lineal son conceptos que se refieren a las relaciones entre los vectores en un conjunto. Estos conceptos están relacionados con la existencia de combinaciones lineales triviales o no triviales que igualan el vector cero.\n",
        "\n",
        "Un conjunto de vectores {v1, v2, ..., vn} se considera linealmente dependiente si existe una combinación lineal no trivial (es decir, no todos los escalares son cero) que iguala al vector cero. Matemáticamente, esto se expresa como:\n",
        "\n",
        "c1v1 + c2v2 + ... + cnvn = 0\n",
        "\n",
        "En cambio, un conjunto de vectores se considera linealmente independiente si la única combinación lineal que iguala al vector cero es la combinación lineal trivial (es decir, todos los escalares son cero). En términos matemáticos, esto se expresa como:\n",
        "\n",
        "c1v1 + c2v2 + ... + cnvn = 0   implica   c1 = c2 = ... = cn = 0\n",
        "\n",
        "En resumen:\n",
        "- Si existe una combinación lineal no trivial que iguala al vector cero, el conjunto de vectores es linealmente dependiente.\n",
        "- Si la única combinación lineal que iguala al vector cero es la combinación lineal trivial, el conjunto de vectores es linealmente independiente.\n",
        "\n",
        "Es importante destacar que la independencia o dependencia lineal está relacionada con la relación entre los vectores en un conjunto, y no con las propiedades individuales de cada vector. Dos vectores pueden ser linealmente dependientes en un conjunto específico, pero linealmente independientes en otro contexto."
      ],
      "metadata": {
        "id": "pYAhT98N3pHo"
      }
    },
    {
      "cell_type": "markdown",
      "source": [
        "#BASE Y DIMENSION \n",
        "\n",
        "La base de un espacio vectorial es un conjunto de vectores que son linealmente independientes y generan todo el espacio vectorial. En otras palabras, la base es un conjunto mínimo de vectores necesarios para expresar cualquier vector en el espacio a través de combinaciones lineales. \n",
        "\n",
        "Formalmente, en un espacio vectorial V, un conjunto de vectores B = {v1, v2, ..., vn} se considera una base si cumple dos condiciones:\n",
        "1. Los vectores en B son linealmente independientes, lo que significa que la única combinación lineal que iguala al vector cero es la combinación lineal trivial c1v1 + c2v2 + ... + cnvn = 0 implica c1 = c2 = ... = cn = 0.\n",
        "2. Los vectores en B generan todo el espacio vectorial V, lo que significa que cualquier vector v en V puede ser expresado como una combinación lineal de los vectores en B.\n",
        "\n",
        "La dimensión de un espacio vectorial se define como el número de vectores en su base. Si un espacio vectorial V tiene una base finita con n vectores, se dice que V es de dimensión n y se denota como dim(V) = n.\n",
        "\n",
        "La dimensión es una medida fundamental de un espacio vectorial y proporciona información sobre la cantidad de vectores necesarios para describirlo completamente. Además, la dimensión también tiene implicaciones en términos de las operaciones y propiedades del espacio vectorial. Dos espacios vectoriales de igual dimensión son isomorfos, lo que significa que tienen la misma estructura y pueden mapearse uno al otro de manera biunívoca preservando las operaciones vectoriales.\n",
        "\n",
        "Algunos ejemplos de dimensiones son:\n",
        "- El espacio vectorial ℝ^n tiene dimensión n.\n",
        "- El espacio vectorial de las matrices cuadradas de tamaño n × n, denotado por M_n, tiene dimensión n^2.\n",
        "- El espacio vectorial de los polinomios de grado ≤ n, denotado por P_n, tiene dimensión n+1.\n",
        "\n",
        "En resumen, la base de un espacio vectorial es un conjunto de vectores linealmente independientes que generan todo el espacio, mientras que la dimensión es el número de vectores en la base, lo cual es una medida de la complejidad o el tamaño del espacio vectorial."
      ],
      "metadata": {
        "id": "qdYICvRf5Kxl"
      }
    },
    {
      "cell_type": "markdown",
      "source": [
        "#COORDENADAS Y MATRIZ CAMBIO DE BASE.\n",
        "\n",
        "Las coordenadas son una forma de representar un vector en términos de una base específica de un espacio vectorial. Para un espacio vectorial de dimensión n, una base particular está compuesta por n vectores linealmente independientes. Las coordenadas de un vector v en relación con esta base se expresan como una combinación lineal de los vectores de la base, multiplicados por los escalares correspondientes.\n",
        "\n",
        "Supongamos que tenemos un espacio vectorial V de dimensión n y una base B = {v1, v2, ..., vn}. Si tenemos un vector v en V, sus coordenadas en relación con la base B se denotan como [v]_B y se calculan de la siguiente manera:\n",
        "\n",
        "[v]_B = (c1, c2, ..., cn)\n",
        "\n",
        "Donde c1, c2, ..., cn son los escalares tales que v = c1v1 + c2v2 + ... + cnvn.\n",
        "\n",
        "La matriz de cambio de base es una matriz que permite convertir las coordenadas de un vector de una base a las coordenadas correspondientes en otra base. Supongamos que tenemos dos bases B = {v1, v2, ..., vn} y B' = {v1', v2', ..., vn'} para el mismo espacio vectorial V. La matriz de cambio de base de B a B' se denota como P_{B→B'} y se define de la siguiente manera:\n",
        "\n",
        "P_{B→B'} = [v1' | v2' | ... | vn']\n",
        "\n",
        "Donde cada columna de la matriz P_{B→B'} representa las coordenadas de los vectores de la base B' en relación con la base B.\n",
        "\n",
        "Dado un vector v en V, si sus coordenadas en relación con la base B son [v]_B y sus coordenadas en relación con la base B' son [v]_{B'}, entonces se tiene la siguiente relación:\n",
        "\n",
        "[v]_{B'} = P_{B→B'} * [v]_B\n",
        "\n",
        "Esto implica que podemos transformar las coordenadas de un vector de una base a otra multiplicando las coordenadas originales por la matriz de cambio de base correspondiente.\n",
        "\n",
        "En resumen, las coordenadas son una forma de representar un vector en términos de una base específica, y la matriz de cambio de base permite convertir las coordenadas de un vector de una base a las coordenadas correspondientes en otra base. Esto es útil para trabajar con diferentes bases y realizar transformaciones entre ellas."
      ],
      "metadata": {
        "id": "0AbM5SGp5nB7"
      }
    },
    {
      "cell_type": "markdown",
      "source": [
        "#BASE ORTOGONALES Y ORTONOTMALES\n",
        "\n",
        "En el contexto de los espacios vectoriales, una base ortogonal es un conjunto de vectores en el que cada par de vectores es ortogonal entre sí, lo que significa que su producto interno es cero. Formalmente, en un espacio vectorial con un producto interno, un conjunto de vectores {v1, v2, ..., vn} se considera una base ortogonal si se cumple:\n",
        "\n",
        "⟨vi, vj⟩ = 0 para i ≠ j\n",
        "\n",
        "Donde ⟨., .⟩ representa el producto interno.\n",
        "\n",
        "Por otro lado, una base ortonormal es un conjunto de vectores en el que cada vector tiene una norma de longitud 1 (es decir, es un vector unitario) y todos los pares de vectores son ortogonales entre sí. En otras palabras, una base ortonormal es una base ortogonal en la que todos los vectores están normalizados. Formalmente, un conjunto de vectores {v1, v2, ..., vn} se considera una base ortonormal si se cumple:\n",
        "\n",
        "⟨vi, vj⟩ = 0 para i ≠ j\n",
        "⟨vi, vi⟩ = 1 para todo i\n",
        "\n",
        "La principal diferencia entre una base ortogonal y una base ortonormal radica en las normas de los vectores. Mientras que una base ortogonal solo garantiza la ortogonalidad entre los vectores, una base ortonormal además asegura que cada vector tenga una norma de longitud unitaria.\n",
        "\n",
        "Las bases ortogonales y ortonormales son especialmente útiles en diversos contextos, como en el álgebra lineal y el análisis de señales. Permiten simplificar cálculos y representaciones de vectores y matrices, ya que las propiedades de ortogonalidad pueden explotarse para simplificar expresiones algebraicas y diagonalizar matrices, entre otras aplicaciones.\n",
        "\n",
        "Es importante destacar que no todos los espacios vectoriales tienen bases ortogonales o ortonormales. Sin embargo, en espacios vectoriales con un producto interno adecuado, es posible encontrar bases ortogonales o ortonormales utilizando métodos como la ortogonalización de Gram-Schmidt."
      ],
      "metadata": {
        "id": "_9zDrfPv5xxz"
      }
    },
    {
      "cell_type": "markdown",
      "source": [
        "#**TRANSFORMACIONES LINEALES #5**"
      ],
      "metadata": {
        "id": "WVTFbJD86L1d"
      }
    },
    {
      "cell_type": "markdown",
      "source": [
        "#DEFINICION Y EJEMPLOS DE TRANSFORMACIONES\n",
        "\n",
        "Una transformación es una función que asigna elementos de un conjunto de partida a elementos de un conjunto de llegada. En el contexto de las transformaciones lineales, tanto el conjunto de partida como el conjunto de llegada son espacios vectoriales.\n",
        "\n",
        "Una transformación lineal es una función que preserva las operaciones de suma y multiplicación escalar. Formalmente, sea V y W dos espacios vectoriales sobre un campo F. Una función T: V -> W se considera una transformación lineal si cumple con las siguientes propiedades:\n",
        "\n",
        "1. Preservación de la suma: Para cualquier par de vectores u y v en V, T(u + v) = T(u) + T(v).\n",
        "2. Preservación de la multiplicación escalar: Para cualquier vector u en V y cualquier escalar c en F, T(cu) = cT(u).\n",
        "\n",
        "Aquí hay algunos ejemplos de transformaciones lineales:\n",
        "\n",
        "1. Traslación: Considera el espacio vectorial R^2 (el plano). La función T que toma un vector (x, y) y lo traslada agregando un vector de traslación (a, b) se define como T(x, y) = (x + a, y + b). Esta función cumple con las propiedades de una transformación lineal, ya que preserva la suma y la multiplicación escalar.\n",
        "\n",
        "2. Escalamiento: En el espacio vectorial R^2, la función T que toma un vector (x, y) y lo escala por un factor k se define como T(x, y) = (kx, ky). Esta función también cumple con las propiedades de una transformación lineal.\n",
        "\n",
        "3. Rotación: En el espacio vectorial R^2, la función T que toma un vector (x, y) y lo rota en sentido antihorario alrededor del origen por un ángulo θ se define como T(x, y) = (x*cosθ - y*sinθ, x*sinθ + y*cosθ). Esta función es una transformación lineal.\n"
      ],
      "metadata": {
        "id": "6URtybGf6RxJ"
      }
    },
    {
      "cell_type": "code",
      "source": [
        "import numpy as np\n",
        "\n",
        "def linear_transformation(vector):\n",
        "    # Definir la matriz de transformación lineal\n",
        "    matrix = np.array([[2, 1], [3, -1]])\n",
        "    \n",
        "    # Aplicar la transformación lineal al vector de entrada\n",
        "    result = np.dot(matrix, vector)\n",
        "    \n",
        "    return result\n",
        "\n",
        "# Ejemplo de vector de entrada\n",
        "input_vector = np.array([1, 2])\n",
        "\n",
        "# Aplicar la transformación lineal al vector de entrada\n",
        "output_vector = linear_transformation(input_vector)\n",
        "\n",
        "print(\"Vector de entrada:\", input_vector)\n",
        "print(\"Vector de salida:\", output_vector)\n"
      ],
      "metadata": {
        "colab": {
          "base_uri": "https://localhost:8080/"
        },
        "id": "_m4MGM1FakBC",
        "outputId": "33b3da58-b577-46ed-c8f5-4b2e64e41f34"
      },
      "execution_count": null,
      "outputs": [
        {
          "output_type": "stream",
          "name": "stdout",
          "text": [
            "Vector de entrada: [1 2]\n",
            "Vector de salida: [4 1]\n"
          ]
        }
      ]
    },
    {
      "cell_type": "markdown",
      "source": [
        "#DEFINICION Y EJEMPLOS DE TRANSFORMACIONES LINEALES. REPRESENTACION MATRICIAL. PROPIEDADES\n",
        "\n",
        "Una transformación lineal es una función que mapea vectores de un espacio vectorial a otro espacio vectorial, preservando las propiedades de linealidad. En el contexto de las transformaciones lineales, tanto el conjunto de partida como el conjunto de llegada son espacios vectoriales.\n",
        "\n",
        "Formalmente, sea V y W dos espacios vectoriales sobre un campo F. Una función T: V -> W se considera una transformación lineal si cumple con las siguientes propiedades:\n",
        "\n",
        "1. Preservación de la suma: Para cualquier par de vectores u y v en V, T(u + v) = T(u) + T(v).\n",
        "2. Preservación de la multiplicación escalar: Para cualquier vector u en V y cualquier escalar c en F, T(cu) = cT(u).\n",
        "\n",
        "Estas propiedades implican que la transformación lineal preserva las operaciones de suma y multiplicación escalar, lo que garantiza que las propiedades algebraicas de los espacios vectoriales se mantengan después de aplicar la transformación.\n",
        "\n",
        "La representación matricial de una transformación lineal es una forma conveniente de expresarla utilizando matrices. Sea V un espacio vectorial con una base {v_1, v_2, ..., v_n}, y sea W un espacio vectorial con una base {w_1, w_2, ..., w_m}. Si T: V -> W es una transformación lineal, entonces existe una matriz A de tamaño m x n tal que para cada vector v en V, la transformación lineal se puede calcular como T(v) = Av, donde v se interpreta como una columna.\n",
        "\n",
        "La matriz A se llama matriz de la transformación lineal y las columnas de la matriz A son las imágenes de las bases de V bajo la transformación lineal. Es decir, si A = [w_1 | w_2 | ... | w_n], entonces T(v_i) = w_i para i = 1, 2, ..., n.\n",
        "\n",
        "Algunas propiedades de las transformaciones lineales son:\n",
        "\n",
        "1. La imagen de la suma de vectores es igual a la suma de las imágenes: T(u + v) = T(u) + T(v).\n",
        "2. La imagen de la multiplicación escalar es igual a la multiplicación escalar de la imagen: T(cu) = cT(u), donde c es un escalar.\n",
        "3. La transformación lineal lleva el vector cero al vector cero: T(0) = 0.\n",
        "\n",
        "Estas propiedades aseguran que las transformaciones lineales conservan las estructuras algebraicas y lineales de los espacios vectoriales, lo que las hace útiles en muchos contextos, como el álgebra lineal, la geometría y las ciencias de la computación."
      ],
      "metadata": {
        "id": "4uAqCliu7KGr"
      }
    },
    {
      "cell_type": "markdown",
      "source": [
        "#NUCLEO E IMAGEN\n",
        "\n",
        "El núcleo y la imagen son dos conceptos importantes \n",
        "relacionados con los espacios vectoriales de partida y llegada de la transformación.\n",
        "\n",
        "1. Núcleo (Kernel): El núcleo de una transformación lineal es el conjunto de todos los vectores en el espacio vectorial de partida que se mapean al vector cero en el espacio vectorial de llegada. En otras palabras, es el conjunto de vectores en el espacio vectorial de partida que son transformados en el vector cero por la transformación lineal.\n",
        "\n",
        "Formalmente, para una transformación lineal T: V -> W, el núcleo se define como:\n",
        "\n",
        "ker(T) = {v ∈ V | T(v) = 0}\n",
        "\n",
        "El núcleo es un subespacio vectorial de V. Contiene al vector cero y es cerrado bajo la suma de vectores y la multiplicación escalar.\n",
        "\n",
        "El núcleo es importante porque nos proporciona información sobre la dependencia lineal de los vectores de partida y nos ayuda a entender si existen soluciones no triviales a sistemas de ecuaciones lineales homogéneas asociadas a la transformación.\n",
        "\n",
        "2. Imagen (Image): La imagen de una transformación lineal es el conjunto de todos los vectores en el espacio vectorial de llegada que son el resultado de aplicar la transformación lineal a los vectores en el espacio vectorial de partida. En otras palabras, es el conjunto de todos los vectores alcanzables mediante la transformación lineal.\n",
        "\n",
        "Formalmente, para una transformación lineal T: V -> W, la imagen se define como:\n",
        "\n",
        "im(T) = {w ∈ W | w = T(v) para algún v ∈ V}\n",
        "\n",
        "La imagen también es un subespacio vectorial de W. Contiene al vector cero de W y es cerrada bajo la suma de vectores y la multiplicación escalar.\n",
        "\n",
        "La imagen es importante porque nos muestra el rango de la transformación lineal, es decir, el conjunto de vectores que realmente se alcanzan en el espacio vectorial de llegada. También nos ayuda a comprender la relación entre los espacios vectoriales de partida y llegada, y a determinar si la transformación es sobreyectiva (surjective) o inyectiva (injective).\n",
        "\n",
        "En resumen, el núcleo y la imagen son conceptos fundamentales en el estudio de las transformaciones lineales. El núcleo nos da información sobre la dependencia lineal en el espacio vectorial de partida, mientras que la imagen nos muestra los vectores alcanzables en el espacio vectorial de llegada. Ambos conceptos son útiles para comprender y analizar las propiedades y el comportamiento de las transformaciones lineales."
      ],
      "metadata": {
        "id": "ubsoPV6Q7-ia"
      }
    },
    {
      "cell_type": "markdown",
      "source": [
        "#MATRICES DE TRANSFORMACIONES LINEALES GENERALES\n",
        "\n",
        "Las matrices de transformaciones lineales son una forma conveniente de representar las transformaciones lineales mediante matrices. Consideremos una transformación lineal T: V - > W, donde V y W son espacios vectoriales con bases {v_1, v_2, ..., v_n} y {w_1, w_2, ..., w_m}, respectivamente.\n",
        "\n",
        "Para representar esta transformación lineal mediante una matriz, necesitamos encontrar una matriz A de tamaño m x n tal que para cada vector v en V, la transformación lineal se pueda calcular como T(v) = Av, donde v se interpreta como una columna.\n",
        "\n",
        "Las columnas de la matriz A se obtienen al aplicar la transformación lineal a cada uno de los vectores de la base de V y expresar los resultados en términos de la base de W. Es decir, si A = [w_1 | w_2 | ... | w_n], entonces T(v_i) = w_i para i = 1, 2, ..., n.\n",
        "\n",
        "Para ilustrar esto con un ejemplo, consideremos la transformación lineal T: R^2 -> R^3 definida por T(x, y) = (2x + y, x - 3y, 4x + 2y). Para encontrar la matriz de esta transformación lineal, aplicamos la transformación a los vectores de la base estándar de R^2:\n",
        "\n",
        "\\begin{equation}\n",
        "\\begin{array}{ccc}\n",
        "T(1, 0) = (2(1) + 0, 1 - 3(0), 4(1) + 2(0)) = (2, 1, 4) \\\\\n",
        "T(0, 1) = (2(0) + 1, 0 - 3(1), 4(0) + 2(1)) = (1, -3, 2)\\\\\n",
        "\\end{array}\n",
        "\\end{equation}\n",
        "\n",
        "La matriz de la transformación lineal T es A = [(2, 1) | (1, -3) | (4, 2)], que es una matriz de tamaño 3x2.\n",
        "\n",
        "Con esta matriz, podemos calcular la transformación lineal para cualquier vector en R^2 multiplicando el vector por la matriz:\n",
        "\n",
        "\\begin{equation}\n",
        "\\begin{array}{ccc}\n",
        "T(x, y) = A * (x, y)\\\\\n",
        "\\end{array}\n",
        "\\end{equation}\n",
        "\n",
        "Para ilustrar, si queremos calcular T(3, 4), podemos hacerlo de la siguiente manera:\n",
        "\n",
        "\\begin{equation}\n",
        "\\begin{array}{ccc}\n",
        "A * (3, 4) = [(2, 1) | (1, -3) | (4, 2)] * [3, 4]\\\\\n",
        "= [(2(3) + 1(4)), (1(3) + (-3)(4)), (4(3) + 2(4))]\\\\\n",
        "= [11, -8, 22]\\\\\n",
        "\\end{array}\n",
        "\\end{equation}\n",
        "\n",
        "Por lo tanto, T(3, 4) = (11, -8, 22).\n",
        "\n",
        "En resumen, las matrices de transformaciones lineales nos permiten representar de manera concisa y conveniente las transformaciones lineales mediante matrices. Estas matrices nos proporcionan una forma efectiva de calcular la transformación lineal para cualquier vector y nos ayudan a comprender y analizar las propiedades y el comportamiento de las transformaciones lineales.\n",
        "\n"
      ],
      "metadata": {
        "id": "lMgOBIc49lJS"
      }
    },
    {
      "cell_type": "markdown",
      "source": [
        "#APLICACIONES\n",
        "\n",
        "Las matrices de transformaciones lineales tienen numerosas aplicaciones en diversos campos, como el álgebra lineal, la geometría, las ciencias de la computación, la física y la ingeniería. Algunas de las aplicaciones más comunes son:\n",
        "\n",
        "1. Resolución de sistemas de ecuaciones lineales: Las matrices de transformaciones lineales permiten resolver sistemas de ecuaciones lineales utilizando métodos como la eliminación de Gauss, la factorización LU o la descomposición QR. Al representar las ecuaciones como una matriz de coeficientes, podemos aplicar transformaciones lineales para simplificar y resolver el sistema.\n",
        "\n",
        "2. Análisis y transformaciones geométricas: En geometría, las transformaciones lineales pueden representar rotaciones, traslaciones, escalados y proyecciones en el espacio. Mediante matrices de transformaciones lineales, podemos realizar estas operaciones de forma eficiente y precisa. Esto es especialmente útil en gráficos por computadora, donde se requiere manipular y transformar objetos tridimensionales en tiempo real.\n",
        "\n",
        "3. Compresión y procesamiento de imágenes: Las imágenes digitales se pueden representar como matrices de píxeles. Mediante transformaciones lineales, como la transformada de Fourier, la transformada discreta del coseno (DCT) o la transformada wavelet, es posible comprimir y procesar imágenes de manera eficiente. Estas transformaciones permiten eliminar redundancias y representar la imagen de manera más compacta.\n",
        "\n",
        "4. Codificación de información: En la teoría de la codificación, las matrices de transformaciones lineales se utilizan para codificar y decodificar información. Por ejemplo, en el códec de video H.264, se aplican transformaciones lineales como la transformada discreta del coseno (DCT) para comprimir y descomprimir secuencias de video.\n",
        "\n",
        "5. Análisis de redes y sistemas: Las matrices de transformaciones lineales se utilizan para analizar redes complejas, como redes de comunicación, redes eléctricas o redes sociales. Por ejemplo, la matriz de incidencia se utiliza para representar las conexiones entre nodos en una red, y las transformaciones lineales se aplican para analizar propiedades estructurales y dinámicas de la red.\n",
        "\n",
        "Estas son solo algunas de las aplicaciones de las matrices de transformaciones lineales. En general, las transformaciones lineales y sus matrices asociadas son herramientas poderosas para modelar y resolver problemas en una amplia gama de disciplinas científicas y tecnológicas."
      ],
      "metadata": {
        "id": "-1COxAl8_28j"
      }
    },
    {
      "cell_type": "markdown",
      "source": [
        "#**VALORES Y VECTORES PROPIOS #6**"
      ],
      "metadata": {
        "id": "Zv2EZRq8AM4p"
      }
    },
    {
      "cell_type": "markdown",
      "source": [
        "#MATRICES PARTICIONADAS. DEFINICION Y PROPIEDADES\n",
        "\n",
        "Los valores y vectores propios son conceptos importantes en el ámbito de la álgebra lineal y se utilizan para analizar las propiedades de las matrices. \n",
        "\n",
        "Cuando se trabaja con matrices cuadradas, un valor propio (también conocido como autovalor) es un escalar que representa un factor de escalamiento asociado a un vector propio. Un vector propio (también conocido como autovector) es un vector no nulo que se mantiene en la misma dirección (o en una dirección paralela) después de ser transformado por la matriz.\n",
        "\n",
        "Matemáticamente, dado una matriz cuadrada A, un valor propio λ y un vector propio no nulo v, se cumple la siguiente ecuación:\n",
        "\n",
        "Av = λv\n",
        "\n",
        "Esto significa que el producto de la matriz A por el vector propio v es igual al valor propio λ multiplicado por el vector propio v.\n",
        "\n",
        "En resumen, los valores propios proporcionan información sobre cómo los vectores propios se ven afectados por la transformación lineal representada por la matriz. Los valores propios pueden ser reales o complejos, mientras que los vectores propios pueden ser cualquier vector no nulo que cumpla la ecuación anterior.\n",
        "\n",
        "El cálculo de los valores y vectores propios puede ser útil en diversas aplicaciones, como la diagonalización de matrices, la resolución de sistemas de ecuaciones lineales, la determinación de comportamientos estables en sistemas dinámicos y el análisis de datos en campos como la estadística y el aprendizaje automático."
      ],
      "metadata": {
        "id": "YyTOEH4fBU_f"
      }
    },
    {
      "cell_type": "markdown",
      "source": [
        "Ejemplo\n",
        "\n",
        "Calcula los valores propios y los vectores propios de la siguiente matriz cuadrada de orden 2:\n",
        "\n",
        "from IPython.display import display, Markdown\n",
        "\n",
        "$$ \\begin{equation} A=\n",
        "\\begin{pmatrix}\n",
        " 3 & 1\\\\ \n",
        " 2 & 4 \n",
        "\\end{pmatrix} \n",
        "\\end{equation}$$\n",
        "\n",
        "Primero calculamos el determinante de la matriz menos λ en su diagonal principal:\n",
        "\n",
        "\n",
        "$$ \\begin{equation}det(A-1λ)=\n",
        "\\begin{vmatrix} \n",
        " 3-λ && 1  \\\\ \n",
        " 2 && 4-λ   \n",
        "\\end{vmatrix}=λ^{2}-7λ+10\n",
        "\\end{equation}$$\n",
        "\n",
        "Ahora calculamos las raíces del polinomio característico:\n",
        "\n",
        "\n",
        "$$ \\begin{equation}λ^{2}-7λ+10=0 ->\n",
        "\\begin{pmatrix}\n",
        " λ=2\\\\ \n",
        " λ=5 \n",
        "\\end{pmatrix} \n",
        "\\end{equation}$$\n",
        "\n",
        "Calculamos el vector propio asociado al valor propio 2:\n",
        "\n",
        "\\begin{equation}\n",
        "\\begin{array}{ccc}\n",
        "(A-2I)V=0\\\\\n",
        "\\end{array}\n",
        "\\end{equation}\n",
        "\n",
        "$$ \\begin{equation}\n",
        "\\begin{pmatrix}\n",
        " 1 & 1\\\\ \n",
        " 2 & 2 \n",
        "\\end{pmatrix} \n",
        "\\begin{pmatrix}\n",
        " x\\\\ \n",
        " y  \n",
        "\\end{pmatrix} =\n",
        "\\begin{pmatrix}\n",
        " 0\\\\ \n",
        " 0 \n",
        "\\end{pmatrix} \n",
        "\\end{equation}$$\n",
        "\n",
        "\n",
        "$$ \\begin{equation}\n",
        "\\begin{pmatrix}\n",
        " x+y=0\\\\ \n",
        " 2x+2y=0 \n",
        "\\end{pmatrix} -> x=-y \n",
        "\\end{equation}$$\n",
        "\n",
        "$$ \\begin{equation}v=\n",
        "\\begin{pmatrix}\n",
        " 1\\\\ \n",
        " -1\n",
        "\\end{pmatrix}  \n",
        "\\end{equation}$$\n",
        "\n",
        "Y luego calculamos el vector propio asociado al valor propio 5:\n",
        "\n",
        "\\begin{equation}\n",
        "\\begin{array}{ccc}\n",
        "(A-5I)V=0\\\\\n",
        "\\end{array}\n",
        "\\end{equation}\n",
        "\n",
        "$$ \\begin{equation}\n",
        "\\begin{pmatrix}\n",
        " -2 & 1\\\\ \n",
        " 2 & -1 \n",
        "\\end{pmatrix} \n",
        "\\begin{pmatrix}\n",
        " x\\\\ \n",
        " y  \n",
        "\\end{pmatrix} =\n",
        "\\begin{pmatrix}\n",
        " 0\\\\ \n",
        " 0 \n",
        "\\end{pmatrix} \n",
        "\\end{equation}$$\n",
        "\n",
        "\n",
        "$$ \\begin{equation}\n",
        "\\begin{pmatrix}\n",
        " -2x+y=0\\\\ \n",
        " 2x-y=0 \n",
        "\\end{pmatrix} -> y=2x \n",
        "\\end{equation}$$\n",
        "\n",
        "$$ \\begin{equation}v=\n",
        "\\begin{pmatrix}\n",
        " 1\\\\ \n",
        " 2\n",
        "\\end{pmatrix}  \n",
        "\\end{equation}$$\n",
        "\n",
        "Por lo tanto, los valores propios y los vectores propios de la matriz A son:\n",
        "\n",
        "$$ \\begin{equation}λ=2 \\quad \\quad v=\n",
        "\\begin{pmatrix}\n",
        " 1\\\\ \n",
        " -1\n",
        "\\end{pmatrix}  \n",
        "\\end{equation}$$\n",
        "\n",
        "$$ \\begin{equation}λ=5 \\quad \\quad v=\n",
        "\\begin{pmatrix}\n",
        " 1\\\\ \n",
        " 2\n",
        "\\end{pmatrix}  \n",
        "\\end{equation}$$"
      ],
      "metadata": {
        "id": "G-kCc20Zg0Og"
      }
    },
    {
      "cell_type": "code",
      "source": [
        "import numpy as np\n",
        "\n",
        "def eigenvalue_eigenvector(matrix):\n",
        "    # Calcular los valores y vectores propios de la matriz\n",
        "    eigenvalues, eigenvectors = np.linalg.eig(matrix)\n",
        "    \n",
        "    return eigenvalues, eigenvectors\n",
        "\n",
        "# Ejemplo de matriz\n",
        "matrix = np.array([[1, 2], [3, 4]])\n",
        "\n",
        "# Calcular los valores y vectores propios de la matriz\n",
        "eigenvalues, eigenvectors = eigenvalue_eigenvector(matrix)\n",
        "\n",
        "print(\"Valores propios:\")\n",
        "for eigenvalue in eigenvalues:\n",
        "    print(eigenvalue)\n",
        "\n",
        "print(\"\\nVectores propios:\")\n",
        "for i in range(len(eigenvectors)):\n",
        "    eigenvector = eigenvectors[:, i]\n",
        "    print(eigenvector)\n"
      ],
      "metadata": {
        "colab": {
          "base_uri": "https://localhost:8080/"
        },
        "id": "AGHNurZhbQIg",
        "outputId": "7699eb9c-0cfb-4d19-e9ef-d2dcfb59cbfb"
      },
      "execution_count": null,
      "outputs": [
        {
          "output_type": "stream",
          "name": "stdout",
          "text": [
            "Valores propios:\n",
            "-0.3722813232690143\n",
            "5.372281323269014\n",
            "\n",
            "Vectores propios:\n",
            "[-0.82456484  0.56576746]\n",
            "[-0.41597356 -0.90937671]\n"
          ]
        }
      ]
    },
    {
      "cell_type": "markdown",
      "source": [
        "#MATRICES PARTICIONADAS. DEFINICION Y PROPIEDADES\n",
        "\n",
        "Las matrices particionadas, también conocidas como matrices bloque o matrices en bloques, son matrices que se organizan en bloques o submatrices más pequeñas. En lugar de tener una única estructura matricial, se divide en secciones o bloques que pueden contener una o más filas y columnas.\n",
        "\n",
        "La forma general de una matriz particionada es la siguiente:\n",
        "\n",
        "\\begin{equation}\n",
        "\\begin{array}{ccc}\n",
        "A = [A11 A12 ... A1n\n",
        "     A21 A22 ... A2n\n",
        "     ... ... ... ...\n",
        "     Am1 Am2 ... Amn]\\\\\n",
        "\\end{array}\n",
        "\\end{equation}\n",
        "\n",
        "Donde cada Aij es una submatriz. Estas submatrices pueden tener diferentes tamaños y propiedades, pero todas juntas forman la matriz particionada A.\n",
        "\n",
        "Las matrices particionadas tienen varias propiedades y beneficios:\n",
        "\n",
        "1. Simplificación de operaciones: Al dividir una matriz en bloques más pequeños, las operaciones matriciales se pueden simplificar y facilitar. Por ejemplo, la multiplicación de matrices particionadas se puede realizar bloque a bloque, lo que puede ser más eficiente computacionalmente.\n",
        "\n",
        "2. Análisis estructural: Al particionar una matriz, se puede obtener una visión más clara y estructurada de la información contenida en ella. Esto puede ser especialmente útil en problemas complejos donde se pueden identificar relaciones o patrones específicos dentro de los bloques.\n",
        "\n",
        "3. Solución de sistemas de ecuaciones: En algunos casos, particionar una matriz puede ayudar a resolver sistemas de ecuaciones lineales de manera más eficiente. Por ejemplo, se pueden aplicar métodos de eliminación gaussiana o descomposición LU a cada bloque individualmente, lo que puede reducir la complejidad computacional.\n",
        "\n",
        "4. Aplicaciones específicas: Las matrices particionadas se utilizan en diversas áreas, como la teoría de control, la teoría de grafos, la teoría de juegos, el análisis numérico y la física teórica, entre otros. Estas aplicaciones específicas pueden aprovechar las propiedades de las matrices particionadas para abordar problemas particulares de manera más efectiva.\n",
        "\n",
        "En resumen, las matrices particionadas son matrices que se dividen en bloques más pequeños, lo que permite simplificar operaciones, analizar la estructura de la matriz, resolver sistemas de ecuaciones de manera más eficiente y aplicarlas en diversos campos de estudio.\n",
        "\n"
      ],
      "metadata": {
        "id": "Pm-y73VvCLuy"
      }
    },
    {
      "cell_type": "markdown",
      "source": [
        "#VECTORES Y VALORES PROPIOS. ECUACION Y POLINOMIO CARACTERISTICO\n",
        "\n",
        "Los valores propios (también conocidos como autovalores) y los vectores propios (también conocidos como autovectores) son conceptos fundamentales en el álgebra lineal. Son utilizados para analizar las propiedades de las matrices cuadradas.\n",
        "\n",
        "La ecuación característica de una matriz A es una ecuación que se forma al buscar los valores propios de la matriz. Se define como:\n",
        "\n",
        "\\begin{equation}\n",
        "\\begin{array}{ccc}\n",
        "det(A - λI) = 0\\\\\n",
        "\\end{array}\n",
        "\\end{equation}\n",
        "\n",
        "donde det() representa el determinante de una matriz, λ es el valor propio (autovalor) que estamos buscando, A es la matriz cuadrada y I es la matriz identidad del mismo tamaño que A.\n",
        "\n",
        "Al resolver esta ecuación, se obtienen los valores propios λ1, λ2, λ3,..., λn de la matriz A. Estos valores propios pueden ser reales o complejos.\n",
        "\n",
        "Una vez que se han encontrado los valores propios, se pueden calcular los vectores propios correspondientes. Un vector propio v es un vector no nulo que satisface la siguiente ecuación:\n",
        "\n",
        "\\begin{equation}\n",
        "\\begin{array}{ccc}\n",
        "(A - λI)v = 0\\\\\n",
        "\\end{array}\n",
        "\\end{equation}\n",
        "\n",
        "donde v es el vector propio asociado al valor propio λ, A es la matriz y I es la matriz identidad del mismo tamaño que A.\n",
        "\n",
        "Los vectores propios proporcionan información sobre las direcciones en las cuales los vectores se mantienen sin cambiar, o solo se escalarán por el factor λ correspondiente.\n",
        "\n",
        "El polinomio característico de una matriz A se puede obtener a partir de la ecuación característica. Es un polinomio de grado n, donde n es el tamaño de la matriz A. El polinomio característico se define como:\n",
        "\n",
        "\\begin{equation}\n",
        "\\begin{array}{ccc}\n",
        "P(λ) = det(A - λI)\\\\\n",
        "\\end{array}\n",
        "\\end{equation}\n",
        "\n",
        "Este polinomio característico tiene como raíces (soluciones) los valores propios λ1, λ2, λ3,..., λn de la matriz A.\n",
        "\n",
        "El análisis de los valores y vectores propios es muy importante en diversas aplicaciones, como la diagonalización de matrices, el estudio de la estabilidad de sistemas dinámicos, la resolución de sistemas de ecuaciones lineales y la comprensión de los comportamientos y propiedades de las matrices en general."
      ],
      "metadata": {
        "id": "-LApHBiZDEGV"
      }
    },
    {
      "cell_type": "markdown",
      "source": [
        "#TEOREMA DE CAYLEY - HAMILTON\n",
        "\n",
        "El teorema de Cayley-Hamilton es un resultado fundamental en el álgebra lineal que establece una relación entre una matriz cuadrada y su polinomio característico. El teorema lleva el nombre de los matemáticos Arthur Cayley y William Hamilton, quienes realizaron contribuciones independientes a su formulación.\n",
        "\n",
        "El teorema de Cayley-Hamilton establece que toda matriz cuadrada A satisface su propio polinomio característico. En otras palabras, si P(λ) es el polinomio característico de la matriz A, entonces al evaluar este polinomio en la matriz A, se obtiene la matriz cero:\n",
        "\n",
        "\n",
        "\\begin{equation}\n",
        "\\begin{array}{ccc}\n",
        "P(A) = 0\\\\\n",
        "\\end{array}\n",
        "\\end{equation}\n",
        "\n",
        "Donde 0 representa la matriz nula del mismo tamaño que A. En términos más precisos, el polinomio P(λ) se evalúa sustituyendo λ por la matriz A y realizando todas las operaciones algebraicas correspondientes.\n",
        "\n",
        "Este teorema es de gran importancia porque establece una relación profunda entre las matrices y sus polinomios característicos. Permite expresar una matriz elevada a una potencia alta como una combinación lineal de las potencias más bajas de la misma matriz, lo que puede ser útil en diversas aplicaciones.\n",
        "\n",
        "El teorema de Cayley-Hamilton tiene implicaciones en el ámbito de la diagonalización de matrices, la resolución de sistemas de ecuaciones lineales, la determinación de la inversa de una matriz y la obtención de funciones de matrices, entre otros.\n",
        "\n",
        "En resumen, el teorema de Cayley-Hamilton establece que toda matriz cuadrada satisface su propio polinomio característico. Esto proporciona una relación profunda entre las matrices y sus polinomios característicos, lo que tiene importantes implicaciones en el álgebra lineal y diversas aplicaciones matemáticas.\n"
      ],
      "metadata": {
        "id": "dCY6S0UHDYtV"
      }
    },
    {
      "cell_type": "markdown",
      "source": [
        "#DIAGONALIZACION DE MATRICES\n",
        "\n",
        "La diagonalización de matrices es un proceso mediante el cual se busca encontrar una matriz diagonal similar a una matriz dada. Esta descomposición es especialmente útil ya que simplifica los cálculos y permite obtener información valiosa sobre las propiedades de la matriz original.\n",
        "\n",
        "Una matriz A de tamaño n x n es diagonalizable si existe una matriz invertible P y una matriz diagonal D tal que se cumple la siguiente igualdad:\n",
        "\n",
        "A = PDP^(-1)\n",
        "\n",
        "Donde D es una matriz diagonal que contiene los valores propios de A en la diagonal y P es una matriz cuyas columnas son los correspondientes vectores propios de A.\n",
        "\n",
        "Para diagonalizar una matriz, se deben seguir los siguientes pasos:\n",
        "\n",
        "1. Encontrar los valores propios (autovalores) de la matriz A resolviendo la ecuación característica det(A - λI) = 0.\n",
        "\n",
        "2. Para cada valor propio λ, encontrar los vectores propios (autovectores) correspondientes resolviendo la ecuación (A - λI)v = 0.\n",
        "\n",
        "3. Organizar los vectores propios en una matriz P, donde cada columna de P es un vector propio.\n",
        "\n",
        "4. Construir la matriz diagonal D utilizando los valores propios encontrados, colocando los valores propios en la diagonal de D y ceros en las demás posiciones.\n",
        "\n",
        "5. Calcular la inversa de la matriz P y denotarla como P^(-1).\n",
        "\n",
        "6. Finalmente, la matriz A se puede expresar como la diagonalización A = PDP^(-1).\n",
        "\n",
        "La diagonalización de una matriz tiene varias aplicaciones, como simplificar cálculos y resolución de sistemas de ecuaciones lineales, calcular potencias de la matriz, determinar la inversa de la matriz y analizar la estabilidad de sistemas dinámicos.\n",
        "\n",
        "Es importante destacar que no todas las matrices son diagonalizables. Una matriz es diagonalizable si y solo si tiene un conjunto completo de vectores propios linealmente independientes. Matrices con autovalores repetidos o vectores propios linealmente dependientes pueden no ser diagonalizables."
      ],
      "metadata": {
        "id": "7wsm834ED6Af"
      }
    },
    {
      "cell_type": "markdown",
      "source": [
        "Ejemplo \n",
        "\n",
        "Diagonalizar la siguiente matriz si es posible:\n",
        "\n",
        "$$ \\begin{equation} B=\n",
        "\\begin{pmatrix}\n",
        " 1 & 2 & 4 \\\\\n",
        " 2 & 1 & -4 \\\\\n",
        " 0 & 0 & 3\n",
        "\\end{pmatrix}\n",
        "\\end{equation}$$\n",
        "\n",
        "Buscamos los autovalores:\n",
        "\n",
        "$$ \\begin{equation} det\n",
        "(\n",
        "B\n",
        "–\n",
        "λ\n",
        "I\n",
        ")\n",
        "=\n",
        "\\begin{vmatrix} \n",
        " 1-λ & 2 & 4 \\\\ \n",
        " 2 & 1-λ & -4 \\\\\n",
        " 0 & 0 & 3-λ   \n",
        "\\end{vmatrix} =\n",
        "(\n",
        "3\n",
        "–\n",
        "λ\n",
        ")\n",
        "(\n",
        "(\n",
        "1\n",
        "–\n",
        "λ\n",
        ")\n",
        "2\n",
        "–\n",
        "4\n",
        ")\n",
        "\\end{equation}$$\n",
        "\n",
        "\\begin{equation}\n",
        "\\begin{array}{ccc}\n",
        "λ\n",
        "=\n",
        "3\n",
        "(\n",
        "d\n",
        "o\n",
        "b\n",
        "l\n",
        "e\n",
        ")\n",
        "∨\n",
        "λ\n",
        "=\n",
        "–\n",
        "1\\\\\n",
        "\\end{array}\n",
        "\\end{equation}\n",
        "\n",
        "Atención: es un error muy común suponer que la existencia de un autovalor doble implica que la matriz no es diagonalizable.\n",
        "\n",
        "Para \n",
        "λ\n",
        "=\n",
        "–\n",
        "1\n",
        " buscamos el autoespacio correspondiente:\n",
        "\n",
        " $$ \\begin{equation}\n",
        "\\begin{pmatrix}\n",
        " 2 & 2 & 4\\\\\n",
        " 2 & 2 & -4\\\\\n",
        " 0 & 0 & 4\n",
        "\\end{pmatrix} \n",
        "\\begin{pmatrix}\n",
        " x \\\\\n",
        " y \\\\\n",
        " z \n",
        "\\end{pmatrix} =\n",
        "\\begin{pmatrix}\n",
        " 0 \\\\\n",
        " 0 \\\\\n",
        " 0\n",
        "\\end{pmatrix}\n",
        "\\end{equation}$$\n",
        "\n",
        "\\begin{equation} S\n",
        "–\n",
        "1\n",
        "=\n",
        "g\n",
        "e\n",
        "n\n",
        "\\begin{Bmatrix}\n",
        "  1\\\\\n",
        "  -1 \\\\\n",
        "  0 \\\\\n",
        "\\end{Bmatrix}\n",
        "\\end{equation}\n",
        "\n",
        "\n",
        "\n"
      ],
      "metadata": {
        "id": "Ci31QEowbtzB"
      }
    },
    {
      "cell_type": "markdown",
      "source": [
        "#**CONICAS #7**"
      ],
      "metadata": {
        "id": "GxI3xIdSDQ0o"
      }
    },
    {
      "cell_type": "markdown",
      "source": [
        "Las cónicas son un conjunto de curvas planas que se obtienen como secciones de un cono doble mediante un plano. Estas curvas incluyen la circunferencia, la elipse, la parábola y la hipérbola, así como casos degenerados como puntos y líneas rectas.\n",
        "\n",
        "1. ¿Cómo se obtienen las secciones cónicas?\n",
        "\n",
        "Las secciones cónicas se obtienen al intersectar un plano con un cono doble. Dependiendo de la posición y ángulo del plano con respecto al cono, se generan diferentes tipos de cónicas. Si el plano corta todas las capas del cono, se obtiene una hipérbola o una elipse. Si el plano es paralelo a una de las generatrices del cono, se obtiene una parábola. Y si el plano es perpendicular al eje del cono, se obtiene una circunferencia.\n",
        "\n",
        "2. ¿Cuáles son las propiedades geométricas y algebraicas de las cónicas?\n",
        "\n",
        "-Las cónicas tienen diversas propiedades geométricas y algebraicas. Algunas de ellas incluyen:\n",
        "\n",
        "-Las cónicas son simétricas respecto a su eje mayor o menor, y pueden tener ejes de simetría vertical u horizontal.\n",
        "\n",
        "-Las cónicas tienen focos, que son puntos especiales en el plano que determinan las distancias características de la curva.\n",
        "\n",
        "-Las cónicas tienen excentricidad, que es una medida de cuán achatada o alargada es la curva.\n",
        "\n",
        "-Las ecuaciones generales de las cónicas son ecuaciones cuadráticas en las variables x e y, y sus coeficientes determinan las características específicas de cada curva.\n",
        "\n",
        "3. ¿Cuáles son las ecuaciones generales de las cónicas en el plano cartesiano?\n",
        "\n",
        "Las ecuaciones generales de las cónicas son:\n",
        "\n",
        "-Circunferencia: \n",
        "\n",
        "\\begin{equation}\n",
        "\\begin{array}{ccc}\n",
        "(x - h)^2 + (y - k)^2 = r^2\n",
        "\\end{array} \n",
        "\\end{equation} donde (h, k) es el centro y r es el radio.\n",
        "\n",
        "-Elipse:\n",
        "\n",
        "\\begin{equation}\n",
        "\\begin{array}{ccc}\n",
        "((x - h)^2 / a^2) + ((y - k)^2 / b^2) = 1\n",
        "\\end{array} \n",
        "\\end{equation} donde (h, k) es el centro, a es el semieje mayor y b es el semieje menor.\n",
        "\n",
        "-Hipérbola: \n",
        " \n",
        "\\begin{equation}\n",
        "\\begin{array}{ccc}\n",
        "((x - h)^2 / a^2) - ((y - k)^2 / b^2) = 1\n",
        "\\end{array} \n",
        "\\end{equation} donde (h, k) es el centro, a es el semieje transverso y b es el semieje conjugado.\n",
        "\n",
        "-Parábola: \n",
        "\n",
        "\\begin{equation}\n",
        "\\begin{array}{ccc}\n",
        "y = a(x - h)^2 + k,\n",
        "\\end{array} \n",
        "\\end{equation} donde (h, k) es el vértice y a es un parámetro que determina la apertura y dirección de la parábola.\n",
        "\n",
        "\n",
        " "
      ],
      "metadata": {
        "id": "vLkyVjN-f0Sn"
      }
    },
    {
      "cell_type": "markdown",
      "source": [
        "#CIRCUNFERENCIA"
      ],
      "metadata": {
        "id": "EOF_tU0ymCDn"
      }
    },
    {
      "cell_type": "markdown",
      "source": [
        "La circunferencia es una de las cónicas más conocidas y estudiadas en la geometría. Se define como el conjunto de todos los puntos en un plano que están equidistantes de un punto fijo llamado centro. Es una curva cerrada y simétrica, caracterizada por tener una forma redonda y constante.\n",
        "\n",
        "1. La circunferencia tiene varias propiedades interesantes y únicas. Algunas de ellas son:\n",
        "\n",
        "2. Radio: El radio de una circunferencia es la distancia entre su centro y cualquier punto de la circunferencia. Todos los puntos de la circunferencia están a una distancia constante del centro, igual al valor del radio.\n",
        "\n",
        "3. Diámetro: El diámetro de una circunferencia es el segmento que une dos puntos opuestos de la circunferencia y pasa por su centro. El diámetro es igual al doble del radio.\n",
        "\n",
        "4. Longitud de la circunferencia: La longitud de una circunferencia se calcula utilizando la fórmula L = 2πr, donde L representa la longitud y r es el radio. El número π (pi) es una constante irracional que representa la relación entre la circunferencia y su diámetro, aproximadamente 3.14159.\n",
        "\n",
        "5. Área del círculo: El área encerrada por una circunferencia se calcula mediante la fórmula A = πr^2, donde A representa el área y r es el radio. Esta fórmula muestra que el área de un círculo es proporcional al cuadrado de su radio.\n",
        "\n",
        "6. Teorema de Pitágoras y el círculo: El teorema de Pitágoras establece que en un triángulo rectángulo, la suma de los cuadrados de las longitudes de los catetos es igual al cuadrado de la longitud de la hipotenusa. Este teorema tiene una relación especial con el círculo: si trazamos dos diámetros perpendiculares en una circunferencia, estos dividen la circunferencia en cuatro cuadrantes, y el teorema de Pitágoras se cumple para cada uno de los cuadrantes.\n",
        "\n",
        "La circunferencia tiene una amplia gama de aplicaciones en campos como la geometría, física, ingeniería y ciencias naturales. Se utiliza en cálculos de áreas y volúmenes, en la descripción de trayectorias y movimientos circulares, en el diseño de ruedas y engranajes, en la óptica para describir lentes y espejos curvos, y en muchas otras áreas de estudio."
      ],
      "metadata": {
        "id": "Aluj3d5LkXqQ"
      }
    },
    {
      "cell_type": "code",
      "source": [
        "import matplotlib.pyplot as plt\n",
        "import numpy as np\n",
        "\n",
        "def graficar_circunferencia(radio):\n",
        "    # Generar valores para el ángulo theta\n",
        "    theta = np.linspace(0, 2*np.pi, 100)\n",
        "\n",
        "    # Calcular las coordenadas x e y de la circunferencia\n",
        "    x = radio * np.cos(theta)\n",
        "    y = radio * np.sin(theta)\n",
        "\n",
        "    # Crear el gráfico\n",
        "    plt.figure(figsize=(5, 5))\n",
        "    plt.plot(x, y)\n",
        "    plt.axis('equal')\n",
        "    plt.xlabel('Eje x')\n",
        "    plt.ylabel('Eje y')\n",
        "    plt.title('Circunferencia de radio {}'.format(radio))\n",
        "    plt.grid(True)\n",
        "    plt.show()\n",
        "\n",
        "# Ejemplo de uso\n",
        "radio = 5\n",
        "graficar_circunferencia(radio)\n"
      ],
      "metadata": {
        "colab": {
          "base_uri": "https://localhost:8080/",
          "height": 487
        },
        "id": "qfdYCEcnlKvI",
        "outputId": "6d08e741-0dcf-461a-8565-bd4024a6155e"
      },
      "execution_count": 2,
      "outputs": [
        {
          "output_type": "display_data",
          "data": {
            "text/plain": [
              "<Figure size 500x500 with 1 Axes>"
            ],
            "image/png": "[encoded data removed]"
          },
          "metadata": {}
        }
      ]
    },
    {
      "cell_type": "markdown",
      "source": [
        "#ELIPSE"
      ],
      "metadata": {
        "id": "koio8MKVl34A"
      }
    },
    {
      "cell_type": "markdown",
      "source": [
        "La elipse es una de las cónicas más importantes y fascinantes en la geometría. Se define como el conjunto de todos los puntos en un plano, tal que la suma de las distancias de cada punto a dos puntos fijos llamados focos es constante. Estos dos focos son puntos especiales dentro de la elipse y juegan un papel crucial en su definición y características.\n",
        "\n",
        "La elipse presenta una serie de propiedades notables:\n",
        "\n",
        "1. Eje mayor y eje menor: La elipse tiene dos ejes perpendiculares entre sí, denominados eje mayor y eje menor. El eje mayor es el segmento que pasa por los dos focos y cuya longitud es el doble de la distancia entre los focos (denominada distancia focal). El eje menor es el segmento perpendicular al eje mayor, que también tiene una longitud específica.\n",
        "\n",
        "2. Centro: El centro de la elipse es el punto de intersección de los dos ejes. Es el punto desde el cual se simetrizan todos los puntos de la elipse.\n",
        "\n",
        "3. Focos: Los dos focos son puntos especiales ubicados en el eje mayor de la elipse. La distancia entre cada foco y cualquier punto de la elipse sumada es constante.\n",
        "\n",
        "4. Excentricidad: La excentricidad es una medida de la forma de la elipse y está relacionada con la elongación o achatamiento de la figura. Se define como la relación entre la distancia focal y la longitud del eje mayor. La excentricidad varía entre 0 y 1, donde una elipse con excentricidad 0 es una circunferencia y una elipse con excentricidad 1 es una elipse degenerada.\n",
        "\n",
        "5. Ecuación general: La ecuación general de una elipse en el plano cartesiano es ((x - h)^2 / a^2) + ((y - k)^2 / b^2) = 1, donde (h, k) es el centro de la elipse, \"a\" es la semidistancia del eje mayor y \"b\" es la semidistancia del eje menor.\n",
        "\n",
        "6. Fórmulas para el área y la longitud: El área de una elipse se calcula utilizando la fórmula A = πab, donde \"a\" y \"b\" son las semidistancias del eje mayor y eje menor, respectivamente. La longitud de la elipse se calcula utilizando la fórmula L = 4aE(e), donde E(e) es la integral elíptica incompleta de segundo tipo.\n",
        "\n",
        "Las elipses tienen una amplia gama de aplicaciones en campos como la astronomía, la óptica, la mecánica celeste, la arquitectura y el diseño. Son utilizadas para modelar trayectorias de planetas y satélites, construir lentes y espejos, diseñar arcos y puentes, entre otros usos."
      ],
      "metadata": {
        "id": "JXZcRPcsl0KI"
      }
    },
    {
      "cell_type": "code",
      "source": [
        "import matplotlib.pyplot as plt\n",
        "import numpy as np\n",
        "\n",
        "def graficar_elipse(a, b):\n",
        "    # Generar valores para el ángulo theta\n",
        "    theta = np.linspace(0, 2*np.pi, 100)\n",
        "\n",
        "    # Calcular las coordenadas x e y de la elipse\n",
        "    x = a * np.cos(theta)\n",
        "    y = b * np.sin(theta)\n",
        "\n",
        "    # Crear el gráfico\n",
        "    plt.figure(figsize=(5, 5))\n",
        "    plt.plot(x, y)\n",
        "    plt.axis('equal')\n",
        "    plt.xlabel('Eje x')\n",
        "    plt.ylabel('Eje y')\n",
        "    plt.title('Elipse con semiejes {} y {}'.format(a, b))\n",
        "    plt.grid(True)\n",
        "    plt.show()\n",
        "\n",
        "# Ejemplo de uso\n",
        "a = 5\n",
        "b = 3\n",
        "graficar_elipse(a, b)\n"
      ],
      "metadata": {
        "colab": {
          "base_uri": "https://localhost:8080/",
          "height": 487
        },
        "id": "j04XBDk2mdtq",
        "outputId": "5a5e5555-6d37-41bc-b9cc-f38858a9eebf"
      },
      "execution_count": 3,
      "outputs": [
        {
          "output_type": "display_data",
          "data": {
            "text/plain": [
              "<Figure size 500x500 with 1 Axes>"
            ],
            "image/png": "[encoded data removed]"
          },
          "metadata": {}
        }
      ]
    },
    {
      "cell_type": "markdown",
      "source": [
        "#HIPERBOLA"
      ],
      "metadata": {
        "id": "oIZuVbN4mgOf"
      }
    },
    {
      "cell_type": "markdown",
      "source": [
        "La hipérbola es una de las cónicas más interesantes y fundamentales en la geometría. Se define como el conjunto de todos los puntos en un plano tal que la diferencia de las distancias de cada punto a dos puntos fijos llamados focos es constante. A diferencia de la elipse, la hipérbola presenta una simetría especial que la distingue.\n",
        "\n",
        "La hipérbola tiene varias propiedades notables:\n",
        "\n",
        "1. Eje transverso y eje conjugado: La hipérbola tiene dos ejes perpendiculares entre sí, denominados eje transverso y eje conjugado. El eje transverso es el segmento que pasa por los dos focos y tiene una longitud específica. El eje conjugado es el segmento perpendicular al eje transverso y también tiene una longitud específica.\n",
        "\n",
        "2. Centro: El centro de la hipérbola es el punto de intersección de los dos ejes. Es el punto de simetría de la hipérbola.\n",
        "\n",
        "3. Focos: Al igual que en la elipse, los dos focos son puntos especiales en la hipérbola. La diferencia es que en la hipérbola, la suma de las distancias de cualquier punto de la hipérbola a los dos focos es constante.\n",
        "\n",
        "4. Asíntotas: Las asíntotas son líneas rectas que se aproximan cada vez más a los brazos de la hipérbola a medida que se alejan del centro. Estas líneas tienen una pendiente específica y se cruzan en el centro de la hipérbola.\n",
        "\n",
        "5. Ecuación general: La ecuación general de una hipérbola en el plano cartesiano es ((x - h)^2 / a^2) - ((y - k)^2 / b^2) = 1 o ((y - k)^2 / b^2) - ((x - h)^2 / a^2) = 1, dependiendo de si la hipérbola es horizontal o vertical. Aquí, (h, k) representa el centro de la hipérbola, \"a\" es la semidistancia del eje transverso y \"b\" es la semidistancia del eje conjugado.\n",
        "\n",
        "6. Enfoque en la excentricidad: La excentricidad de la hipérbola es una medida de cuánto se desvía la hipérbola de una circunferencia. Se define como la relación entre la distancia focal y la longitud del eje transverso. La excentricidad de una hipérbola siempre es mayor que 1.\n",
        "\n",
        "7. Fórmulas para el área y la longitud: A diferencia de la elipse, la hipérbola no tiene un área finita. Sin embargo, se puede calcular el área de una región limitada de la hipérbola utilizando fórmulas más avanzadas. La longitud de una hipérbola se puede calcular utilizando la fórmula L = 4aE(e), donde \"a\" es la semidistancia del eje transverso y E(e) es la integral elíptica incompleta de segundo tipo.\n",
        "\n",
        "Las hipérbolas tienen diversas aplicaciones en campos como la física, la ingeniería y la astronomía. Se utilizan en el diseño de antenas y telescopios, en el modelado de órbitas y trayectorias, y en la resolución de problemas relacionados con la propagación de ondas."
      ],
      "metadata": {
        "id": "pF5arMQ2mszx"
      }
    },
    {
      "cell_type": "code",
      "source": [
        "import matplotlib.pyplot as plt\n",
        "import numpy as np\n",
        "\n",
        "def graficar_hiperbola(a, b):\n",
        "    # Generar valores para el ángulo theta\n",
        "    theta = np.linspace(0, 2*np.pi, 100)\n",
        "\n",
        "    # Calcular las coordenadas x e y de la hipérbola\n",
        "    x = a * np.cosh(theta)\n",
        "    y = b * np.sinh(theta)\n",
        "\n",
        "    # Crear el gráfico\n",
        "    plt.figure(figsize=(5, 5))\n",
        "    plt.plot(x, y, label='Rama superior')\n",
        "    plt.plot(x, -y, label='Rama inferior')\n",
        "    plt.xlabel('Eje x')\n",
        "    plt.ylabel('Eje y')\n",
        "    plt.title('Hipérbola con semiejes {} y {}'.format(a, b))\n",
        "    plt.legend()\n",
        "    plt.grid(True)\n",
        "    plt.show()\n",
        "\n",
        "# Ejemplo de uso\n",
        "a = 3\n",
        "b = 2\n",
        "graficar_hiperbola(a, b)\n"
      ],
      "metadata": {
        "colab": {
          "base_uri": "https://localhost:8080/",
          "height": 488
        },
        "id": "X5PI_lSpnak4",
        "outputId": "02d99d59-4cc4-4bd9-8fcd-64f315638b90"
      },
      "execution_count": 4,
      "outputs": [
        {
          "output_type": "display_data",
          "data": {
            "text/plain": [
              "<Figure size 500x500 with 1 Axes>"
            ],
            "image/png": "[encoded data removed]"
          },
          "metadata": {}
        }
      ]
    },
    {
      "cell_type": "markdown",
      "source": [
        "#PARABOLA"
      ],
      "metadata": {
        "id": "y4seBDiancmn"
      }
    },
    {
      "cell_type": "markdown",
      "source": [
        "La parábola es una de las cónicas más conocidas y fascinantes en la geometría. Se define como el conjunto de todos los puntos en un plano que equidistan de un punto fijo llamado foco y una recta fija llamada directriz. La parábola tiene una forma característica y propiedades únicas que la distinguen de otras curvas.\n",
        "\n",
        "La parábola presenta varias propiedades notables:\n",
        "\n",
        "1. Eje de simetría: La parábola tiene un eje de simetría vertical u horizontal que divide a la parábola en dos partes simétricas. El eje de simetría es perpendicular a la directriz y pasa por el foco.\n",
        "\n",
        "2. Foco: El foco es un punto especial en la parábola que está ubicado a una distancia igual de la directriz y cualquier punto en la parábola. El foco juega un papel crucial en la definición y las propiedades de la parábola.\n",
        "\n",
        "3. Directriz: La directriz es una recta fija ubicada a una distancia igual del foco y cualquier punto en la parábola. La directriz también es importante en la definición y las propiedades de la parábola.\n",
        "\n",
        "4. Ecuación general: La ecuación general de una parábola en el plano cartesiano depende de la orientación de la parábola. Para una parábola con eje vertical, la ecuación general es de la forma (x - h)^2 = 4p(y - k), donde (h, k) representa las coordenadas del vértice de la parábola y \"p\" es la distancia entre el vértice y el foco o la directriz. Para una parábola con eje horizontal, la ecuación general es de la forma (y - k)^2 = 4p(x - h).\n",
        "\n",
        "5. Vértice: El vértice de la parábola es el punto en el eje de simetría donde la parábola alcanza su valor extremo. En la ecuación general, el vértice está representado por las coordenadas (h, k).\n",
        "\n",
        "6. Foco-directriz y distancia focal: La distancia entre el foco y la directriz se conoce como distancia focal. La distancia focal es igual a 2p, donde \"p\" es un parámetro importante en la ecuación general de la parábola.\n",
        "\n",
        "7. Propiedades geométricas: La parábola tiene propiedades geométricas únicas, como la propiedad de reflexión, que establece que un rayo de luz que incide paralelamente al eje de simetría se reflejará hacia el foco. Esto hace que la parábola sea útil en aplicaciones ópticas y en el diseño de antenas parabólicas.\n",
        "\n",
        "8. Aplicaciones: Las parábolas se encuentran en muchas aplicaciones prácticas, como en la óptica para enfocar la luz en telescopios y reflectores parabólicos, en la física para modelar el movimiento de proyectiles y en la arquitectura para el diseño de puentes y edificios.\n",
        "\n",
        "La parábola es una curva con propiedades matemáticas y físicas interesantes, y su estudio ha sido fundamental en diversos campos."
      ],
      "metadata": {
        "id": "61jnWzNFnnP4"
      }
    },
    {
      "cell_type": "code",
      "source": [
        "import matplotlib.pyplot as plt\n",
        "import numpy as np\n",
        "\n",
        "def graficar_parabola(a, h, k):\n",
        "    # Generar valores para x\n",
        "    x = np.linspace(h - 10, h + 10, 400)\n",
        "\n",
        "    # Calcular los valores correspondientes de y\n",
        "    y = ((x - h)**2) / (4 * a) + k\n",
        "\n",
        "    # Crear el gráfico\n",
        "    plt.figure(figsize=(5, 5))\n",
        "    plt.plot(x, y, label='Parábola')\n",
        "    plt.xlabel('Eje x')\n",
        "    plt.ylabel('Eje y')\n",
        "    plt.title('Parábola con vértice ({}, {})'.format(h, k))\n",
        "    plt.legend()\n",
        "    plt.grid(True)\n",
        "    plt.show()\n",
        "\n",
        "# Ejemplo de uso\n",
        "a = 1  # Parámetro de la parábola\n",
        "h = 2  # Coordenada x del vértice\n",
        "k = 3  # Coordenada y del vértice\n",
        "graficar_parabola(a, h, k)\n"
      ],
      "metadata": {
        "colab": {
          "base_uri": "https://localhost:8080/",
          "height": 487
        },
        "id": "8vSzKWwtoDM6",
        "outputId": "bc220ab9-fc43-4b2c-8c0f-0cb18b4b6323"
      },
      "execution_count": 5,
      "outputs": [
        {
          "output_type": "display_data",
          "data": {
            "text/plain": [
              "<Figure size 500x500 with 1 Axes>"
            ],
            "image/png": "[encoded data removed]"
          },
          "metadata": {}
        }
      ]
    }
  ]
}